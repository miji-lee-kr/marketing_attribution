{
 "cells": [
  {
   "cell_type": "markdown",
   "id": "22031210",
   "metadata": {},
   "source": [
    "## Marketing Attribution Analysis\n",
    "\n",
    "\n",
    "## Table of Contents\n",
    "- [Introduction](#intro)\n",
    "- [Customer Purchase Pattern](#purchase_pattern)\n",
    "- [Cross-Channel Interaction](#cross_channel)\n",
    "- [Attribution Modeling](#modeling)\n",
    "- [Action Plans](#action_plans)\n",
    "\n",
    "\n",
    "<a id='intro'></a>\n",
    "### Introduction\n",
    "\n",
    "The dataset is from an online beauty store in Germany, which includes customer journey from various marketing channels, and each customers' total purchase amount. \n",
    "The purpose of the analysis is to find out the most effective channel, in order to maximise the impact of our marketing cost spending."
   ]
  },
  {
   "cell_type": "markdown",
   "id": "300a500d",
   "metadata": {},
   "source": [
    "### Data Preprocessing"
   ]
  },
  {
   "cell_type": "code",
   "execution_count": 83,
   "id": "f0ca88e8",
   "metadata": {},
   "outputs": [],
   "source": [
    "import pandas as pd\n",
    "import numpy as np\n",
    "import random\n",
    "import seaborn as sns\n",
    "import matplotlib.pyplot as plt\n",
    "%matplotlib inline"
   ]
  },
  {
   "cell_type": "code",
   "execution_count": 259,
   "id": "0d2974e6",
   "metadata": {},
   "outputs": [
    {
     "name": "stdout",
     "output_type": "stream",
     "text": [
      "<class 'pandas.core.frame.DataFrame'>\n",
      "RangeIndex: 586737 entries, 0 to 586736\n",
      "Data columns (total 6 columns):\n",
      " #   Column            Non-Null Count   Dtype  \n",
      "---  ------            --------------   -----  \n",
      " 0   cookie            586737 non-null  object \n",
      " 1   time              586737 non-null  object \n",
      " 2   interaction       586737 non-null  object \n",
      " 3   conversion        586737 non-null  int64  \n",
      " 4   conversion_value  586737 non-null  float64\n",
      " 5   channel           586737 non-null  object \n",
      "dtypes: float64(1), int64(1), object(4)\n",
      "memory usage: 26.9+ MB\n"
     ]
    }
   ],
   "source": [
    "df = pd.read_csv('attribution.csv')\n",
    "df.info()"
   ]
  },
  {
   "cell_type": "code",
   "execution_count": 35,
   "id": "ce24fd53",
   "metadata": {},
   "outputs": [],
   "source": [
    "df.drop_duplicates(inplace = True)"
   ]
  },
  {
   "cell_type": "code",
   "execution_count": 36,
   "id": "b204e85e",
   "metadata": {},
   "outputs": [
    {
     "data": {
      "text/plain": [
       "cookie              0\n",
       "time                0\n",
       "interaction         0\n",
       "conversion          0\n",
       "conversion_value    0\n",
       "channel             0\n",
       "dtype: int64"
      ]
     },
     "execution_count": 36,
     "metadata": {},
     "output_type": "execute_result"
    }
   ],
   "source": [
    "df[df.isnull()].count()"
   ]
  },
  {
   "cell_type": "code",
   "execution_count": 37,
   "id": "08628554",
   "metadata": {},
   "outputs": [],
   "source": [
    "# handling time & date\n",
    "\n",
    "from datetime import datetime, timedelta\n",
    "\n",
    "df['time'] = pd.to_datetime(df['time'])\n",
    "\n",
    "df['dayofweek'] = df['time'].dt.dayofweek\n",
    "df['hour'] = df['time'].dt.hour\n",
    "\n",
    "def week_number_of_month(date_value):\n",
    "     return (date_value.isocalendar()[1] - date_value.replace(day=1).isocalendar()[1])\n",
    "df['weekofmonth'] = df['time'].apply(week_number_of_month)"
   ]
  },
  {
   "cell_type": "code",
   "execution_count": 38,
   "id": "8a72d9e2",
   "metadata": {},
   "outputs": [],
   "source": [
    "def week_eng(date_value):\n",
    "    if date_value == 0:\n",
    "        return \"0_Mon\"\n",
    "    elif date_value == 1:\n",
    "        return \"1_Tue\"\n",
    "    elif date_value == 2:\n",
    "        return \"2_Wed\"\n",
    "    elif date_value == 3:\n",
    "        return \"3_Thu\"\n",
    "    elif date_value == 4:\n",
    "        return \"4_Fri\"\n",
    "    elif date_value == 5:\n",
    "        return \"5_Sat\"\n",
    "    else:\n",
    "        return \"6_Sun\"\n",
    "\n",
    "df['dayofweek'] = df['dayofweek'].apply(week_eng)"
   ]
  },
  {
   "cell_type": "code",
   "execution_count": 135,
   "id": "551db1c1",
   "metadata": {
    "scrolled": true
   },
   "outputs": [
    {
     "data": {
      "text/html": [
       "<div>\n",
       "<style scoped>\n",
       "    .dataframe tbody tr th:only-of-type {\n",
       "        vertical-align: middle;\n",
       "    }\n",
       "\n",
       "    .dataframe tbody tr th {\n",
       "        vertical-align: top;\n",
       "    }\n",
       "\n",
       "    .dataframe thead th {\n",
       "        text-align: right;\n",
       "    }\n",
       "</style>\n",
       "<table border=\"1\" class=\"dataframe\">\n",
       "  <thead>\n",
       "    <tr style=\"text-align: right;\">\n",
       "      <th></th>\n",
       "      <th>cookie</th>\n",
       "      <th>time</th>\n",
       "      <th>interaction</th>\n",
       "      <th>conversion</th>\n",
       "      <th>conversion_value</th>\n",
       "      <th>channel</th>\n",
       "      <th>month</th>\n",
       "      <th>dayofweek</th>\n",
       "      <th>hour</th>\n",
       "      <th>weekofmonth</th>\n",
       "      <th>hour_group</th>\n",
       "      <th>impression</th>\n",
       "    </tr>\n",
       "  </thead>\n",
       "  <tbody>\n",
       "    <tr>\n",
       "      <th>0</th>\n",
       "      <td>00000FkCnDfDDf0iC97iC703B</td>\n",
       "      <td>2018-07-03 13:02:11+00:00</td>\n",
       "      <td>impression</td>\n",
       "      <td>0</td>\n",
       "      <td>0.0</td>\n",
       "      <td>Instagram</td>\n",
       "      <td>7</td>\n",
       "      <td>1_Tue</td>\n",
       "      <td>13</td>\n",
       "      <td>1</td>\n",
       "      <td>2_afternoon</td>\n",
       "      <td>1</td>\n",
       "    </tr>\n",
       "    <tr>\n",
       "      <th>1</th>\n",
       "      <td>00000FkCnDfDDf0iC97iC703B</td>\n",
       "      <td>2018-07-17 19:15:07+00:00</td>\n",
       "      <td>impression</td>\n",
       "      <td>0</td>\n",
       "      <td>0.0</td>\n",
       "      <td>Online Display</td>\n",
       "      <td>7</td>\n",
       "      <td>1_Tue</td>\n",
       "      <td>19</td>\n",
       "      <td>3</td>\n",
       "      <td>3_evening</td>\n",
       "      <td>1</td>\n",
       "    </tr>\n",
       "    <tr>\n",
       "      <th>2</th>\n",
       "      <td>00000FkCnDfDDf0iC97iC703B</td>\n",
       "      <td>2018-07-24 15:51:46+00:00</td>\n",
       "      <td>impression</td>\n",
       "      <td>0</td>\n",
       "      <td>0.0</td>\n",
       "      <td>Online Display</td>\n",
       "      <td>7</td>\n",
       "      <td>1_Tue</td>\n",
       "      <td>15</td>\n",
       "      <td>4</td>\n",
       "      <td>2_afternoon</td>\n",
       "      <td>1</td>\n",
       "    </tr>\n",
       "    <tr>\n",
       "      <th>3</th>\n",
       "      <td>00000FkCnDfDDf0iC97iC703B</td>\n",
       "      <td>2018-07-29 07:44:51+00:00</td>\n",
       "      <td>impression</td>\n",
       "      <td>0</td>\n",
       "      <td>0.0</td>\n",
       "      <td>Online Display</td>\n",
       "      <td>7</td>\n",
       "      <td>6_Sun</td>\n",
       "      <td>7</td>\n",
       "      <td>4</td>\n",
       "      <td>1_morning</td>\n",
       "      <td>1</td>\n",
       "    </tr>\n",
       "    <tr>\n",
       "      <th>4</th>\n",
       "      <td>0000nACkD9nFkBBDECD3ki00E</td>\n",
       "      <td>2018-07-03 09:44:57+00:00</td>\n",
       "      <td>impression</td>\n",
       "      <td>0</td>\n",
       "      <td>0.0</td>\n",
       "      <td>Paid Search</td>\n",
       "      <td>7</td>\n",
       "      <td>1_Tue</td>\n",
       "      <td>9</td>\n",
       "      <td>1</td>\n",
       "      <td>1_morning</td>\n",
       "      <td>1</td>\n",
       "    </tr>\n",
       "  </tbody>\n",
       "</table>\n",
       "</div>"
      ],
      "text/plain": [
       "                      cookie                      time interaction  \\\n",
       "0  00000FkCnDfDDf0iC97iC703B 2018-07-03 13:02:11+00:00  impression   \n",
       "1  00000FkCnDfDDf0iC97iC703B 2018-07-17 19:15:07+00:00  impression   \n",
       "2  00000FkCnDfDDf0iC97iC703B 2018-07-24 15:51:46+00:00  impression   \n",
       "3  00000FkCnDfDDf0iC97iC703B 2018-07-29 07:44:51+00:00  impression   \n",
       "4  0000nACkD9nFkBBDECD3ki00E 2018-07-03 09:44:57+00:00  impression   \n",
       "\n",
       "   conversion  conversion_value         channel  month dayofweek  hour  \\\n",
       "0           0               0.0       Instagram      7     1_Tue    13   \n",
       "1           0               0.0  Online Display      7     1_Tue    19   \n",
       "2           0               0.0  Online Display      7     1_Tue    15   \n",
       "3           0               0.0  Online Display      7     6_Sun     7   \n",
       "4           0               0.0     Paid Search      7     1_Tue     9   \n",
       "\n",
       "   weekofmonth   hour_group  impression  \n",
       "0            1  2_afternoon           1  \n",
       "1            3    3_evening           1  \n",
       "2            4  2_afternoon           1  \n",
       "3            4    1_morning           1  \n",
       "4            1    1_morning           1  "
      ]
     },
     "execution_count": 135,
     "metadata": {},
     "output_type": "execute_result"
    }
   ],
   "source": [
    "bins = [0,7,12,18,22,24]\n",
    "labels = ['5_night', '1_morning', '2_afternoon','3_evening', '4_eve-night']\n",
    "df['hour_group'] = pd.cut(df['hour'], bins, right = False, labels = labels)\n",
    "\n",
    "df.head()"
   ]
  },
  {
   "cell_type": "markdown",
   "id": "d2955a1b",
   "metadata": {},
   "source": [
    "<a id='purchase_pattern'></a>\n",
    "### Customer Behaviour Pattern"
   ]
  },
  {
   "cell_type": "code",
   "execution_count": null,
   "id": "00190215",
   "metadata": {},
   "outputs": [],
   "source": [
    "# 내가 알고 싶은 것들을 종합해보자. 어떤 채널이 가장 사람들의 구매 의욕을 불러일으키느냐.\n",
    "# 1) 전반적으로 어떤 채널이 가장 전환율이 높을까? 이때 전환율은 액션당임. 한 사람이 여러번 들어오면 여러번임.\n",
    "# 동시에 어떤 채널이 가장 허수가 많을까? 100번 들어와도 1번 사는 거다. 즉 전환율이 낮은거다. 배너 보고 혹해서 들어왔는데 안사고 나가는 경우.\n",
    "# 근데 3) 처럼 허수가 있대도 실제로 상품 질은 좋을 수 있음. 웹사이트가 문제일수도.\n",
    "\n",
    "# 2) 특정 시간에 (혹은 특정 요일에) 특정 미디어를 사용할 때 더 전환율이 높을까? (더 구매의욕을 불러일으킬까?)\n",
    "\n",
    "# 3) 만약 전환율을 액션당이 아니라 사람당이라고 하면 - 어떤 채널의 액션당 전환율은 낮은데 (10번 들어와도 2번 산다) 사람당 전환율은 높다면 (5명이 상품 페이지에 진입했는데 2명이 샀다)\n",
    "# 중간에 결제 전에 방해하는 것이 있따는 것. 트래픽 기준 전환율과 사람 기준 전환율을 비교해보자.\n",
    "\n",
    "# 4) 같은 광고를 한사람당 몇번을 봐야 한번 들어와볼 생각을 할까?\n",
    "\n",
    "# 5) 어트리뷰션 윈도우 정리하자\n",
    "# 6) 광고별 특성 정리하자"
   ]
  },
  {
   "cell_type": "markdown",
   "id": "a0bf8f02",
   "metadata": {},
   "source": [
    "Instagram:\n",
    "\n",
    "Visual-oriented platform primarily focused on sharing images and videos.\n",
    "Popular among younger demographics, particularly millennials and Gen Z.\n",
    "Engaging and interactive content formats such as Stories and IGTV.\n",
    "Influencer marketing plays a significant role.\n",
    "Users often discover new products and brands through Instagram.\n",
    "\n",
    "Online Display:\n",
    "\n",
    "Advertising banners or visuals displayed on websites and apps.\n",
    "Broad reach across various websites and target audiences.\n",
    "Can be effective for brand awareness and exposure.\n",
    "Often used for retargeting campaigns to reach users who have shown interest.\n",
    "Engagement rates can vary based on the design and placement of the ads.\n",
    "\n",
    "Paid Search:\n",
    "\n",
    "Advertising on search engines, such as Google Ads or Bing Ads.\n",
    "Targeted based on keywords and user search queries.\n",
    "Users actively searching for products or services.\n",
    "High intent audience looking for specific information or solutions.\n",
    "Effective for capturing users at the bottom of the marketing funnel.\n",
    "\n",
    "Facebook:\n",
    "\n",
    "Extensive user base with a wide range of demographics.\n",
    "Diverse ad formats, including image ads, video ads, and carousel ads.\n",
    "Advanced targeting options based on user interests, demographics, and behaviors.\n",
    "Suitable for both brand awareness and direct response campaigns.\n",
    "Strong emphasis on social interactions and user engagement.\n",
    "\n",
    "Online Video:\n",
    "\n",
    "Video advertising on platforms such as YouTube or streaming services.\n",
    "High engagement and consumption of video content.\n",
    "Can be used for various objectives, including brand awareness, storytelling, or product demonstrations.\n",
    "Skippable and non-skippable ad formats available.\n",
    "Popular among younger audiences and those who prefer video content.\n"
   ]
  },
  {
   "cell_type": "code",
   "execution_count": null,
   "id": "1f355892",
   "metadata": {},
   "outputs": [],
   "source": []
  },
  {
   "cell_type": "code",
   "execution_count": null,
   "id": "fc7236eb",
   "metadata": {},
   "outputs": [],
   "source": []
  },
  {
   "cell_type": "code",
   "execution_count": 250,
   "id": "6d7830ac",
   "metadata": {
    "scrolled": false
   },
   "outputs": [
    {
     "data": {
      "image/png": "[encoded data removed]",
      "text/plain": [
       "<Figure size 504x288 with 1 Axes>"
      ]
     },
     "metadata": {
      "needs_background": "light"
     },
     "output_type": "display_data"
    }
   ],
   "source": [
    "# (by Cohort)\n",
    "## conversion rate per channel, time, day of week?\n",
    "## conversion rate는 interaction 기준.\n",
    "\n",
    "## 내가 알고 싶은 건. 어떤 채널은 5번 들어올 때 1번 사게 되겠지만, 또 다른 채널은 3번 들어올 때 1번 사게 될수도 있다. 이런 전환율\n",
    "\n",
    "ch_con = round((df[df['conversion']==1].groupby('channel').size()*100/df.groupby('channel').size()),2).reset_index(name = 'conversion rate').sort_values(by = 'conversion rate', ascending = False)\n",
    "\n",
    "colors = sns.color_palette()[0]\n",
    "ax = sns.barplot(x = ch_con.channel, y = 'conversion rate', data = ch_con, color = colors)\n",
    "ax.set_title(\"Conversion Rate by Channel (%)\", size = 15)\n",
    "ax.figure.set_size_inches(7,4)\n",
    "for bar, label in zip(ax.patches, ch_con['conversion rate']):\n",
    "    x = bar.get_x()\n",
    "    width = bar.get_width()\n",
    "    height = bar.get_height()\n",
    "    ax.text(x+width/2., height, label, ha=\"center\", size=12) ;\n"
   ]
  },
  {
   "cell_type": "code",
   "execution_count": 130,
   "id": "d2126727",
   "metadata": {},
   "outputs": [
    {
     "data": {
      "image/png": "[encoded data removed]",
      "text/plain": [
       "<Figure size 1440x432 with 1 Axes>"
      ]
     },
     "metadata": {
      "needs_background": "light"
     },
     "output_type": "display_data"
    }
   ],
   "source": [
    "# 요일마다/ 시간마다 보는 미디어가 다를까?\n",
    "\n",
    "ch_con = round((df[df['conversion']==1].groupby(['channel','dayofweek']).size()*100/df.groupby(['channel','dayofweek']).size()),2).reset_index(name = 'conversion rate')\n",
    "ax = sns.barplot(hue='channel', y='conversion rate', x='dayofweek', data=ch_con)\n",
    "ax.set_title(\"Conversion Rate by Hour of Day (%)\", size=15)\n",
    "ax.legend(loc='lower right', bbox_to_anchor=(1, 0), title='Channel')\n",
    "\n",
    "ax.figure.set_size_inches(20, 6)"
   ]
  },
  {
   "cell_type": "code",
   "execution_count": 129,
   "id": "4ddbcfe0",
   "metadata": {},
   "outputs": [
    {
     "data": {
      "image/png": "[encoded data removed]",
      "text/plain": [
       "<Figure size 1440x432 with 1 Axes>"
      ]
     },
     "metadata": {
      "needs_background": "light"
     },
     "output_type": "display_data"
    }
   ],
   "source": [
    "ch_con = round((df[df['conversion']==1].groupby(['channel','hour_group']).size()*100/df.groupby(['channel','hour_group']).size()),2).reset_index(name = 'conversion rate')\n",
    "ax = sns.barplot(hue='channel', y='conversion rate', x='hour_group', data=ch_con)\n",
    "ax.set_title(\"Conversion Rate by Hour of Day (%)\", size=15)\n",
    "ax.legend(loc='lower right', bbox_to_anchor=(1, 0), title='Channel')\n",
    "\n",
    "ax.figure.set_size_inches(20, 6)"
   ]
  },
  {
   "cell_type": "code",
   "execution_count": 115,
   "id": "6b5f2d31",
   "metadata": {},
   "outputs": [
    {
     "data": {
      "image/png": "[encoded data removed]",
      "text/plain": [
       "<Figure size 936x288 with 1 Axes>"
      ]
     },
     "metadata": {
      "needs_background": "light"
     },
     "output_type": "display_data"
    }
   ],
   "source": [
    "hour = (df[df['conversion']==1].groupby(['hour']).size()*100/df.groupby(['hour']).size()).reset_index(name = 'conversion rate')\n",
    "\n",
    "ax = sns.lineplot(x=hour.hour, y='conversion rate', data=hour, color=colors)\n",
    "ax.set_title(\"Conversion Rate by Day of Week (%)\", size=15)\n",
    "ax.figure.set_size_inches(13, 4)\n",
    "for x, y in zip(hour.hour, hour['conversion rate']):\n",
    "    ax.text(x, y, f'{y:.1f}', ha='center', va='bottom', size=12)\n",
    "ax.set_xticks(hour.hour) \n",
    "ax.set_xticklabels(hour.hour)\n",
    "plt.show()"
   ]
  },
  {
   "cell_type": "code",
   "execution_count": 110,
   "id": "c252b085",
   "metadata": {},
   "outputs": [
    {
     "data": {
      "image/png": "[encoded data removed]",
      "text/plain": [
       "<Figure size 720x360 with 1 Axes>"
      ]
     },
     "metadata": {
      "needs_background": "light"
     },
     "output_type": "display_data"
    }
   ],
   "source": [
    "dow = round((df[df['conversion']==1].groupby(['dayofweek']).size()*100/df.groupby(['dayofweek']).size()),3).reset_index(name = 'conversion rate')\n",
    "\n",
    "ax = sns.lineplot(x=dow.dayofweek, y='conversion rate', data=dow, color=colors)\n",
    "ax.set_title(\"Conversion Rate by Day of Week (%)\", size=15)\n",
    "ax.figure.set_size_inches(10, 4)\n",
    "\n",
    "for x, y in zip(dow.dayofweek, dow['conversion rate']):\n",
    "    ax.text(x, y, f'{y:.2f}', ha='center', va='bottom', size=12)\n",
    "plt.show()"
   ]
  },
  {
   "cell_type": "code",
   "execution_count": 121,
   "id": "acb12108",
   "metadata": {
    "scrolled": true
   },
   "outputs": [
    {
     "data": {
      "image/png": "[encoded data removed]",
      "text/plain": [
       "<Figure size 1440x432 with 1 Axes>"
      ]
     },
     "metadata": {
      "needs_background": "light"
     },
     "output_type": "display_data"
    }
   ],
   "source": [
    "hour = (df[df['conversion']==1].groupby(['dayofweek','hour']).size()*100/df.groupby(['dayofweek','hour']).size()).reset_index(name = 'conversion rate')\n",
    "ax = sns.barplot(x='hour', y='conversion rate', hue='dayofweek', data=hour)\n",
    "ax.set_title(\"Conversion Rate by Hour of Day (%)\", size=15)\n",
    "ax.figure.set_size_inches(20, 6)"
   ]
  },
  {
   "cell_type": "code",
   "execution_count": null,
   "id": "660c2e31",
   "metadata": {},
   "outputs": [],
   "source": [
    "# 내가 알고 싶은건. 채널별로 가장 주목을 얻는 채널과 (자주 들어오게 되는 채널) 그 중 실제로 구매로 이어지게 하는 채널.\n",
    "# 근데 사람으로도 함께 봐도 좋을 것 같다. 만약 주목을 많이 끄는 반면에 실구매자의 \n",
    "\n",
    "ch_con = df.groupby('channel').size().reset_index(name = 'total_visit').sort_values(by = 'total_visit', ascending = False)\n",
    "# 즉 채널별 접속 횟수와 구매 횟수."
   ]
  },
  {
   "cell_type": "code",
   "execution_count": 131,
   "id": "e8e87a93",
   "metadata": {},
   "outputs": [
    {
     "data": {
      "image/png": "[encoded data removed]",
      "text/plain": [
       "<Figure size 504x288 with 1 Axes>"
      ]
     },
     "metadata": {
      "needs_background": "light"
     },
     "output_type": "display_data"
    }
   ],
   "source": [
    "## total visit per channel, time, day of week? (한 사람이 야러번 들어오면 여러번 카운트)\n",
    "\n",
    "ch_con = df.groupby('channel').size().reset_index(name = 'total_visit').sort_values(by = 'total_visit', ascending = False)\n",
    "\n",
    "colors = sns.color_palette()[0]\n",
    "ax = sns.barplot(x = ch_con.channel, y = 'total_visit', data = ch_con, color = colors)\n",
    "ax.set_title(\"Total Visit by Channel (%)\", size = 15)\n",
    "ax.figure.set_size_inches(7,4)\n",
    "for bar, label in zip(ax.patches, ch_con['total_visit']):\n",
    "    x = bar.get_x()\n",
    "    width = bar.get_width()\n",
    "    height = bar.get_height()\n",
    "    ax.text(x+width/2., height, label, ha=\"center\", size=12) ;"
   ]
  },
  {
   "cell_type": "code",
   "execution_count": null,
   "id": "5f1097e3",
   "metadata": {},
   "outputs": [],
   "source": [
    "## actual customers per channel, time, day of week?\n"
   ]
  },
  {
   "cell_type": "code",
   "execution_count": null,
   "id": "17523ef4",
   "metadata": {},
   "outputs": [],
   "source": [
    "## 구매자 percentage per channel, time, day of week?"
   ]
  },
  {
   "cell_type": "code",
   "execution_count": null,
   "id": "404fb79f",
   "metadata": {},
   "outputs": [],
   "source": [
    "# conversion rate over time"
   ]
  },
  {
   "cell_type": "code",
   "execution_count": null,
   "id": "ecfd18b8",
   "metadata": {},
   "outputs": [],
   "source": [
    "## how many visit is completed before the 1st purchase? histrogram"
   ]
  },
  {
   "cell_type": "code",
   "execution_count": null,
   "id": "46b9e103",
   "metadata": {},
   "outputs": [],
   "source": [
    "## purchase amount histrogram"
   ]
  },
  {
   "cell_type": "code",
   "execution_count": null,
   "id": "cabb49a0",
   "metadata": {},
   "outputs": [],
   "source": []
  },
  {
   "cell_type": "code",
   "execution_count": null,
   "id": "aa56f1ed",
   "metadata": {},
   "outputs": [],
   "source": []
  },
  {
   "cell_type": "code",
   "execution_count": null,
   "id": "3c9fb570",
   "metadata": {},
   "outputs": [],
   "source": [
    "# 1. Cohort by acquisition date - how much is avg purchase amount, total number of visitors and conversion rate per cohort?"
   ]
  },
  {
   "cell_type": "code",
   "execution_count": null,
   "id": "cea2ebb7",
   "metadata": {},
   "outputs": [],
   "source": [
    "# 2. Cohort by hour "
   ]
  },
  {
   "cell_type": "code",
   "execution_count": null,
   "id": "8f62806c",
   "metadata": {},
   "outputs": [],
   "source": [
    "# 3. Cohort by day of week"
   ]
  },
  {
   "cell_type": "markdown",
   "id": "23cbb03d",
   "metadata": {},
   "source": [
    "<a id='cross_channel'></a>\n",
    "## Cross-Channel Interaction"
   ]
  },
  {
   "cell_type": "code",
   "execution_count": 267,
   "id": "4e1975fc",
   "metadata": {},
   "outputs": [
    {
     "data": {
      "text/html": [
       "<div>\n",
       "<style scoped>\n",
       "    .dataframe tbody tr th:only-of-type {\n",
       "        vertical-align: middle;\n",
       "    }\n",
       "\n",
       "    .dataframe tbody tr th {\n",
       "        vertical-align: top;\n",
       "    }\n",
       "\n",
       "    .dataframe thead th {\n",
       "        text-align: right;\n",
       "    }\n",
       "</style>\n",
       "<table border=\"1\" class=\"dataframe\">\n",
       "  <thead>\n",
       "    <tr style=\"text-align: right;\">\n",
       "      <th></th>\n",
       "      <th>cookie</th>\n",
       "      <th>time</th>\n",
       "      <th>interaction</th>\n",
       "      <th>conversion</th>\n",
       "      <th>conversion_value</th>\n",
       "      <th>channel</th>\n",
       "      <th>channel_sequence</th>\n",
       "      <th>attribution_validity</th>\n",
       "      <th>within_window</th>\n",
       "    </tr>\n",
       "  </thead>\n",
       "  <tbody>\n",
       "    <tr>\n",
       "      <th>586722</th>\n",
       "      <td>ooonih0kon3FDAB90EfADEFnn</td>\n",
       "      <td>2018-07-13 08:43:38+00:00</td>\n",
       "      <td>impression</td>\n",
       "      <td>0</td>\n",
       "      <td>0.0</td>\n",
       "      <td>Facebook</td>\n",
       "      <td>Online Video</td>\n",
       "      <td>2018-08-10 08:43:38+00:00</td>\n",
       "      <td>True</td>\n",
       "    </tr>\n",
       "    <tr>\n",
       "      <th>586723</th>\n",
       "      <td>ooonih0kon3FDAB90EfADEFnn</td>\n",
       "      <td>2018-07-13 09:35:35+00:00</td>\n",
       "      <td>conversion</td>\n",
       "      <td>1</td>\n",
       "      <td>7.5</td>\n",
       "      <td>Instagram</td>\n",
       "      <td>Instagram</td>\n",
       "      <td>2018-08-10 09:35:35+00:00</td>\n",
       "      <td>True</td>\n",
       "    </tr>\n",
       "  </tbody>\n",
       "</table>\n",
       "</div>"
      ],
      "text/plain": [
       "                           cookie                      time interaction  \\\n",
       "586722  ooonih0kon3FDAB90EfADEFnn 2018-07-13 08:43:38+00:00  impression   \n",
       "586723  ooonih0kon3FDAB90EfADEFnn 2018-07-13 09:35:35+00:00  conversion   \n",
       "\n",
       "        conversion  conversion_value    channel channel_sequence  \\\n",
       "586722           0               0.0   Facebook     Online Video   \n",
       "586723           1               7.5  Instagram        Instagram   \n",
       "\n",
       "            attribution_validity  within_window  \n",
       "586722 2018-08-10 08:43:38+00:00           True  \n",
       "586723 2018-08-10 09:35:35+00:00           True  "
      ]
     },
     "execution_count": 267,
     "metadata": {},
     "output_type": "execute_result"
    }
   ],
   "source": [
    "# df[df['conversion']==1]\n",
    "df[df['cookie']=='ooonih0kon3FDAB90EfADEFnn']"
   ]
  },
  {
   "cell_type": "code",
   "execution_count": 266,
   "id": "590817ba",
   "metadata": {},
   "outputs": [
    {
     "name": "stdout",
     "output_type": "stream",
     "text": [
      "                           cookie channel_sequence\n",
      "0       00000FkCnDfDDf0iC97iC703B                 \n",
      "1       0000nACkD9nFkBBDECD3ki00E                 \n",
      "2       0003EfE37E93D0BC03iBhBBhF                 \n",
      "3       00073CFE3FoFCn70fBhB3kfon                 \n",
      "4       00079hhBkDF3k3kDkiFi9EFAD                 \n",
      "...                           ...              ...\n",
      "240103  ooooE0hkAFBkED90ChDDiBFAf        Instagram\n",
      "240104  ooooEBE0o0D97ACAAAnDoi3F0        Instagram\n",
      "240105  ooooEiB0CCoEf9fiiC90Dfhfk        Instagram\n",
      "240106  ooooiBh70D3k3BfAhDFfii9h7        Instagram\n",
      "240107  ooooohAFofEnonEikhAi3fF9o        Instagram\n",
      "\n",
      "[240108 rows x 2 columns]\n"
     ]
    }
   ],
   "source": [
    "# conversion rate per route (paid -> facebook같이)\n",
    "\n",
    "import numpy as np\n",
    "\n",
    "df.sort_values(['cookie', 'time'], inplace=True)\n",
    "\n",
    "# Create a new column to store the channel sequence\n",
    "df['channel_sequence'] = ''\n",
    "\n",
    "# Iterate over each row and update the channel sequence\n",
    "current_cookie = None\n",
    "channel_sequence = []\n",
    "for index, row in df.iterrows():\n",
    "    if row['conversion'] == 1:\n",
    "        channel_sequence = []\n",
    "        current_cookie = row['cookie']\n",
    "    if row['cookie'] == current_cookie:\n",
    "        channel_sequence.append(row['channel'])\n",
    "    df.at[index, 'channel_sequence'] = ' > '.join(channel_sequence)\n",
    "\n",
    "# Group by cookie and combine the channel sequences\n",
    "df_grouped = df.groupby('cookie')['channel_sequence'].last().reset_index()\n",
    "\n",
    "print(df_grouped)\n"
   ]
  },
  {
   "cell_type": "code",
   "execution_count": null,
   "id": "8aefdb8b",
   "metadata": {},
   "outputs": [],
   "source": []
  },
  {
   "cell_type": "markdown",
   "id": "e0346fec",
   "metadata": {},
   "source": [
    "## Attribution Modeling"
   ]
  },
  {
   "cell_type": "code",
   "execution_count": 261,
   "id": "2ab45c29",
   "metadata": {
    "scrolled": true
   },
   "outputs": [
    {
     "data": {
      "text/html": [
       "<div>\n",
       "<style scoped>\n",
       "    .dataframe tbody tr th:only-of-type {\n",
       "        vertical-align: middle;\n",
       "    }\n",
       "\n",
       "    .dataframe tbody tr th {\n",
       "        vertical-align: top;\n",
       "    }\n",
       "\n",
       "    .dataframe thead th {\n",
       "        text-align: right;\n",
       "    }\n",
       "</style>\n",
       "<table border=\"1\" class=\"dataframe\">\n",
       "  <thead>\n",
       "    <tr style=\"text-align: right;\">\n",
       "      <th></th>\n",
       "      <th>cookie</th>\n",
       "      <th>time</th>\n",
       "      <th>interaction</th>\n",
       "      <th>conversion</th>\n",
       "      <th>conversion_value</th>\n",
       "      <th>channel</th>\n",
       "      <th>channel_sequence</th>\n",
       "      <th>attribution_validity</th>\n",
       "      <th>within_window</th>\n",
       "    </tr>\n",
       "  </thead>\n",
       "  <tbody>\n",
       "    <tr>\n",
       "      <th>0</th>\n",
       "      <td>00000FkCnDfDDf0iC97iC703B</td>\n",
       "      <td>2018-07-03 13:02:11+00:00</td>\n",
       "      <td>impression</td>\n",
       "      <td>0</td>\n",
       "      <td>0.0</td>\n",
       "      <td>Instagram</td>\n",
       "      <td></td>\n",
       "      <td>2018-07-31 13:02:11+00:00</td>\n",
       "      <td>False</td>\n",
       "    </tr>\n",
       "    <tr>\n",
       "      <th>1</th>\n",
       "      <td>00000FkCnDfDDf0iC97iC703B</td>\n",
       "      <td>2018-07-17 19:15:07+00:00</td>\n",
       "      <td>impression</td>\n",
       "      <td>0</td>\n",
       "      <td>0.0</td>\n",
       "      <td>Online Display</td>\n",
       "      <td></td>\n",
       "      <td>2018-08-14 19:15:07+00:00</td>\n",
       "      <td>False</td>\n",
       "    </tr>\n",
       "    <tr>\n",
       "      <th>2</th>\n",
       "      <td>00000FkCnDfDDf0iC97iC703B</td>\n",
       "      <td>2018-07-24 15:51:46+00:00</td>\n",
       "      <td>impression</td>\n",
       "      <td>0</td>\n",
       "      <td>0.0</td>\n",
       "      <td>Online Display</td>\n",
       "      <td></td>\n",
       "      <td>2018-08-21 15:51:46+00:00</td>\n",
       "      <td>False</td>\n",
       "    </tr>\n",
       "    <tr>\n",
       "      <th>3</th>\n",
       "      <td>00000FkCnDfDDf0iC97iC703B</td>\n",
       "      <td>2018-07-29 07:44:51+00:00</td>\n",
       "      <td>impression</td>\n",
       "      <td>0</td>\n",
       "      <td>0.0</td>\n",
       "      <td>Online Display</td>\n",
       "      <td></td>\n",
       "      <td>2018-08-26 07:44:51+00:00</td>\n",
       "      <td>False</td>\n",
       "    </tr>\n",
       "    <tr>\n",
       "      <th>4</th>\n",
       "      <td>0000nACkD9nFkBBDECD3ki00E</td>\n",
       "      <td>2018-07-03 09:44:57+00:00</td>\n",
       "      <td>impression</td>\n",
       "      <td>0</td>\n",
       "      <td>0.0</td>\n",
       "      <td>Paid Search</td>\n",
       "      <td></td>\n",
       "      <td>2018-07-31 09:44:57+00:00</td>\n",
       "      <td>False</td>\n",
       "    </tr>\n",
       "  </tbody>\n",
       "</table>\n",
       "</div>"
      ],
      "text/plain": [
       "                      cookie                      time interaction  \\\n",
       "0  00000FkCnDfDDf0iC97iC703B 2018-07-03 13:02:11+00:00  impression   \n",
       "1  00000FkCnDfDDf0iC97iC703B 2018-07-17 19:15:07+00:00  impression   \n",
       "2  00000FkCnDfDDf0iC97iC703B 2018-07-24 15:51:46+00:00  impression   \n",
       "3  00000FkCnDfDDf0iC97iC703B 2018-07-29 07:44:51+00:00  impression   \n",
       "4  0000nACkD9nFkBBDECD3ki00E 2018-07-03 09:44:57+00:00  impression   \n",
       "\n",
       "   conversion  conversion_value         channel channel_sequence  \\\n",
       "0           0               0.0       Instagram                    \n",
       "1           0               0.0  Online Display                    \n",
       "2           0               0.0  Online Display                    \n",
       "3           0               0.0  Online Display                    \n",
       "4           0               0.0     Paid Search                    \n",
       "\n",
       "       attribution_validity  within_window  \n",
       "0 2018-07-31 13:02:11+00:00          False  \n",
       "1 2018-08-14 19:15:07+00:00          False  \n",
       "2 2018-08-21 15:51:46+00:00          False  \n",
       "3 2018-08-26 07:44:51+00:00          False  \n",
       "4 2018-07-31 09:44:57+00:00          False  "
      ]
     },
     "execution_count": 261,
     "metadata": {},
     "output_type": "execute_result"
    }
   ],
   "source": [
    "# step 1. deciding attribution window for each channel.\n",
    "\n",
    "df['time'] = pd.to_datetime(df['time'])\n",
    "successful_conversions = df[df['conversion'] == 1]\n",
    "\n",
    "attribution_windows = {\n",
    "    'Instagram': timedelta(days=28),\n",
    "    'Online Display': timedelta(days=28),\n",
    "    'Paid Search': timedelta(days=28),\n",
    "    'Facebook': timedelta(days=28),\n",
    "    'Online Video': timedelta(days=28)}\n",
    "\n",
    "# I assigned 28 days to all channels, based on Facebook's attribution window value of 28 days for clicks \n",
    "\n",
    "def assign_attribution_window(row):\n",
    "    interaction_time = row['time']\n",
    "    channel = row['channel']\n",
    "    attribution_window = attribution_windows[channel]\n",
    "    attribution_start_time = interaction_time + attribution_window\n",
    "    return attribution_start_time\n",
    "\n",
    "df['attribution_validity'] = df.apply(assign_attribution_window, axis=1)\n",
    "\n",
    "conversion_times = df.loc[df['conversion'] == 1, ['cookie', 'time']].groupby('cookie').min()\n",
    "merged_df = pd.merge(df, conversion_times, on='cookie', suffixes=('', '_conv'))\n",
    "filtered_rows = merged_df[merged_df['attribution_validity'] >= merged_df['time_conv']]\n",
    "\n",
    "df['within_window'] = df.cookie.isin(filtered_rows.cookie)\n",
    "df.head()\n",
    "\n",
    "\n",
    "# this is to use attribution windows that we calculated earlier, for single & multi touch"
   ]
  },
  {
   "cell_type": "code",
   "execution_count": null,
   "id": "41ebeb90",
   "metadata": {},
   "outputs": [],
   "source": [
    "# 1. Last Click Model \n",
    "# For non-data-driven attribution model, I'm going to use Last click model, which is most commonly used in many tracking tools\n"
   ]
  },
  {
   "cell_type": "code",
   "execution_count": null,
   "id": "afe1cf71",
   "metadata": {},
   "outputs": [],
   "source": [
    "# 2. Data Driven Attribution Model \n",
    "# I'm going to use univariate logistic regression"
   ]
  },
  {
   "cell_type": "code",
   "execution_count": null,
   "id": "4f9915b0",
   "metadata": {},
   "outputs": [],
   "source": [
    "# Comparison"
   ]
  },
  {
   "cell_type": "code",
   "execution_count": null,
   "id": "3f1dbd60",
   "metadata": {},
   "outputs": [],
   "source": [
    "# What did I learn from this project, and how did I learn? "
   ]
  }
 ],
 "metadata": {
  "kernelspec": {
   "display_name": "Python 3",
   "language": "python",
   "name": "python3"
  },
  "language_info": {
   "codemirror_mode": {
    "name": "ipython",
    "version": 3
   },
   "file_extension": ".py",
   "mimetype": "text/x-python",
   "name": "python",
   "nbconvert_exporter": "python",
   "pygments_lexer": "ipython3",
   "version": "3.8.8"
  }
 },
 "nbformat": 4,
 "nbformat_minor": 5
}
