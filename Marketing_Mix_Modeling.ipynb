{
 "cells": [
  {
   "cell_type": "markdown",
   "id": "9b139cac",
   "metadata": {},
   "source": [
    "## Marketing Attribution Analysis\n",
    "\n",
    "\n",
    "## Table of Contents\n",
    "- [Introduction](#intro)\n",
    "- [Customer Purchase Pattern](#purchase_pattern)\n",
    "- [Attribution Modeling](#modeling)\n",
    "- [Action Plans](#action_plans)\n",
    "\n",
    "\n",
    "<a id='intro'></a>\n",
    "### Introduction\n",
    "\n",
    "The dataset is from an online beauty store in Germany, which includes customer journey from various marketing channels, and each customers' total purchase amount. \n",
    "The purpose of the analysis is to find out the most effective channel, in order to maximise the impact of our marketing cost spending."
   ]
  },
  {
   "cell_type": "markdown",
   "id": "84a3e6b8",
   "metadata": {},
   "source": [
    "### Data Preprocessing"
   ]
  },
  {
   "cell_type": "code",
   "execution_count": 165,
   "id": "6ee3c915",
   "metadata": {},
   "outputs": [],
   "source": [
    "import pandas as pd\n",
    "import numpy as np\n",
    "import random\n",
    "import seaborn as sns\n",
    "import matplotlib.pyplot as plt\n",
    "%matplotlib inline"
   ]
  },
  {
   "cell_type": "code",
   "execution_count": 166,
   "id": "1b1b75fc",
   "metadata": {},
   "outputs": [
    {
     "name": "stdout",
     "output_type": "stream",
     "text": [
      "<class 'pandas.core.frame.DataFrame'>\n",
      "RangeIndex: 586737 entries, 0 to 586736\n",
      "Data columns (total 6 columns):\n",
      " #   Column            Non-Null Count   Dtype  \n",
      "---  ------            --------------   -----  \n",
      " 0   cookie            586737 non-null  object \n",
      " 1   time              586737 non-null  object \n",
      " 2   interaction       586737 non-null  object \n",
      " 3   conversion        586737 non-null  int64  \n",
      " 4   conversion_value  586737 non-null  float64\n",
      " 5   channel           586737 non-null  object \n",
      "dtypes: float64(1), int64(1), object(4)\n",
      "memory usage: 26.9+ MB\n"
     ]
    }
   ],
   "source": [
    "df = pd.read_csv('attribution.csv')\n",
    "df.info()"
   ]
  },
  {
   "cell_type": "code",
   "execution_count": 167,
   "id": "89124fca",
   "metadata": {
    "scrolled": true
   },
   "outputs": [
    {
     "data": {
      "text/plain": [
       "cookie              0\n",
       "time                0\n",
       "interaction         0\n",
       "conversion          0\n",
       "conversion_value    0\n",
       "channel             0\n",
       "dtype: int64"
      ]
     },
     "execution_count": 167,
     "metadata": {},
     "output_type": "execute_result"
    }
   ],
   "source": [
    "df.drop_duplicates(inplace = True)\n",
    "df[df.isnull()].count()"
   ]
  },
  {
   "cell_type": "code",
   "execution_count": 168,
   "id": "a321e216",
   "metadata": {},
   "outputs": [],
   "source": [
    "# handling time & date\n",
    "\n",
    "from datetime import datetime, timedelta\n",
    "\n",
    "df['time'] = pd.to_datetime(df['time'])\n",
    "\n",
    "df['dayofweek'] = df['time'].dt.dayofweek\n",
    "df['hour'] = df['time'].dt.hour\n",
    "\n",
    "def week_number_of_month(date_value):\n",
    "     return (date_value.isocalendar()[1] - date_value.replace(day=1).isocalendar()[1])\n",
    "df['weekofmonth'] = df['time'].apply(week_number_of_month)"
   ]
  },
  {
   "cell_type": "code",
   "execution_count": 169,
   "id": "f65f028a",
   "metadata": {},
   "outputs": [],
   "source": [
    "def week_eng(date_value):\n",
    "    if date_value == 0:\n",
    "        return \"0_Mon\"\n",
    "    elif date_value == 1:\n",
    "        return \"1_Tue\"\n",
    "    elif date_value == 2:\n",
    "        return \"2_Wed\"\n",
    "    elif date_value == 3:\n",
    "        return \"3_Thu\"\n",
    "    elif date_value == 4:\n",
    "        return \"4_Fri\"\n",
    "    elif date_value == 5:\n",
    "        return \"5_Sat\"\n",
    "    else:\n",
    "        return \"6_Sun\"\n",
    "\n",
    "df['dayofweek'] = df['dayofweek'].apply(week_eng)"
   ]
  },
  {
   "cell_type": "code",
   "execution_count": 170,
   "id": "246345f2",
   "metadata": {
    "scrolled": true
   },
   "outputs": [
    {
     "data": {
      "text/html": [
       "<div>\n",
       "<style scoped>\n",
       "    .dataframe tbody tr th:only-of-type {\n",
       "        vertical-align: middle;\n",
       "    }\n",
       "\n",
       "    .dataframe tbody tr th {\n",
       "        vertical-align: top;\n",
       "    }\n",
       "\n",
       "    .dataframe thead th {\n",
       "        text-align: right;\n",
       "    }\n",
       "</style>\n",
       "<table border=\"1\" class=\"dataframe\">\n",
       "  <thead>\n",
       "    <tr style=\"text-align: right;\">\n",
       "      <th></th>\n",
       "      <th>cookie</th>\n",
       "      <th>time</th>\n",
       "      <th>interaction</th>\n",
       "      <th>conversion</th>\n",
       "      <th>conversion_value</th>\n",
       "      <th>channel</th>\n",
       "      <th>dayofweek</th>\n",
       "      <th>hour</th>\n",
       "      <th>weekofmonth</th>\n",
       "      <th>hour_group</th>\n",
       "    </tr>\n",
       "  </thead>\n",
       "  <tbody>\n",
       "    <tr>\n",
       "      <th>0</th>\n",
       "      <td>00000FkCnDfDDf0iC97iC703B</td>\n",
       "      <td>2018-07-03 13:02:11+00:00</td>\n",
       "      <td>impression</td>\n",
       "      <td>0</td>\n",
       "      <td>0.0</td>\n",
       "      <td>Instagram</td>\n",
       "      <td>1_Tue</td>\n",
       "      <td>13</td>\n",
       "      <td>1</td>\n",
       "      <td>2_afternoon</td>\n",
       "    </tr>\n",
       "    <tr>\n",
       "      <th>1</th>\n",
       "      <td>00000FkCnDfDDf0iC97iC703B</td>\n",
       "      <td>2018-07-17 19:15:07+00:00</td>\n",
       "      <td>impression</td>\n",
       "      <td>0</td>\n",
       "      <td>0.0</td>\n",
       "      <td>Online Display</td>\n",
       "      <td>1_Tue</td>\n",
       "      <td>19</td>\n",
       "      <td>3</td>\n",
       "      <td>3_evening</td>\n",
       "    </tr>\n",
       "    <tr>\n",
       "      <th>2</th>\n",
       "      <td>00000FkCnDfDDf0iC97iC703B</td>\n",
       "      <td>2018-07-24 15:51:46+00:00</td>\n",
       "      <td>impression</td>\n",
       "      <td>0</td>\n",
       "      <td>0.0</td>\n",
       "      <td>Online Display</td>\n",
       "      <td>1_Tue</td>\n",
       "      <td>15</td>\n",
       "      <td>4</td>\n",
       "      <td>2_afternoon</td>\n",
       "    </tr>\n",
       "    <tr>\n",
       "      <th>3</th>\n",
       "      <td>00000FkCnDfDDf0iC97iC703B</td>\n",
       "      <td>2018-07-29 07:44:51+00:00</td>\n",
       "      <td>impression</td>\n",
       "      <td>0</td>\n",
       "      <td>0.0</td>\n",
       "      <td>Online Display</td>\n",
       "      <td>6_Sun</td>\n",
       "      <td>7</td>\n",
       "      <td>4</td>\n",
       "      <td>1_morning</td>\n",
       "    </tr>\n",
       "    <tr>\n",
       "      <th>4</th>\n",
       "      <td>0000nACkD9nFkBBDECD3ki00E</td>\n",
       "      <td>2018-07-03 09:44:57+00:00</td>\n",
       "      <td>impression</td>\n",
       "      <td>0</td>\n",
       "      <td>0.0</td>\n",
       "      <td>Paid Search</td>\n",
       "      <td>1_Tue</td>\n",
       "      <td>9</td>\n",
       "      <td>1</td>\n",
       "      <td>1_morning</td>\n",
       "    </tr>\n",
       "  </tbody>\n",
       "</table>\n",
       "</div>"
      ],
      "text/plain": [
       "                      cookie                      time interaction  \\\n",
       "0  00000FkCnDfDDf0iC97iC703B 2018-07-03 13:02:11+00:00  impression   \n",
       "1  00000FkCnDfDDf0iC97iC703B 2018-07-17 19:15:07+00:00  impression   \n",
       "2  00000FkCnDfDDf0iC97iC703B 2018-07-24 15:51:46+00:00  impression   \n",
       "3  00000FkCnDfDDf0iC97iC703B 2018-07-29 07:44:51+00:00  impression   \n",
       "4  0000nACkD9nFkBBDECD3ki00E 2018-07-03 09:44:57+00:00  impression   \n",
       "\n",
       "   conversion  conversion_value         channel dayofweek  hour  weekofmonth  \\\n",
       "0           0               0.0       Instagram     1_Tue    13            1   \n",
       "1           0               0.0  Online Display     1_Tue    19            3   \n",
       "2           0               0.0  Online Display     1_Tue    15            4   \n",
       "3           0               0.0  Online Display     6_Sun     7            4   \n",
       "4           0               0.0     Paid Search     1_Tue     9            1   \n",
       "\n",
       "    hour_group  \n",
       "0  2_afternoon  \n",
       "1    3_evening  \n",
       "2  2_afternoon  \n",
       "3    1_morning  \n",
       "4    1_morning  "
      ]
     },
     "execution_count": 170,
     "metadata": {},
     "output_type": "execute_result"
    }
   ],
   "source": [
    "bins = [0,7,12,18,22,24]\n",
    "labels = ['5_night', '1_morning', '2_afternoon','3_evening', '4_eve-night']\n",
    "df['hour_group'] = pd.cut(df['hour'], bins, right = False, labels = labels)\n",
    "\n",
    "df.head()"
   ]
  },
  {
   "cell_type": "markdown",
   "id": "bc261ac6",
   "metadata": {},
   "source": [
    "<a id='purchase_pattern'></a>\n",
    "### Customer Behaviour Pattern"
   ]
  },
  {
   "cell_type": "code",
   "execution_count": 171,
   "id": "d56dc57c",
   "metadata": {},
   "outputs": [
    {
     "data": {
      "image/png": "[encoded data removed]",
      "text/plain": [
       "<Figure size 576x288 with 1 Axes>"
      ]
     },
     "metadata": {
      "needs_background": "light"
     },
     "output_type": "display_data"
    }
   ],
   "source": [
    "# What is the overall distribution of the different channels in your dataset? \n",
    "# Which channels are most prevalent, and which ones are less common?\n",
    "\n",
    "channel_counts = df['channel'].value_counts()\n",
    "\n",
    "plt.figure(figsize=(8, 4))\n",
    "channel_counts.plot(kind='bar')\n",
    "plt.xlabel('Channel')\n",
    "plt.ylabel('Count')\n",
    "plt.title('Distribution of Interactions in Channels')\n",
    "plt.xticks(rotation=0)\n",
    "for i, value in enumerate(channel_counts):\n",
    "    plt.text(i, value, f'{value:.2f}%', ha='center', va='bottom')\n",
    "plt.show()\n",
    "\n",
    "# 페이스북으로부터 유입량이 가장 많다. "
   ]
  },
  {
   "cell_type": "code",
   "execution_count": 83,
   "id": "0e8d3868",
   "metadata": {},
   "outputs": [
    {
     "data": {
      "image/png": "[encoded data removed]",
      "text/plain": [
       "<Figure size 576x288 with 1 Axes>"
      ]
     },
     "metadata": {
      "needs_background": "light"
     },
     "output_type": "display_data"
    }
   ],
   "source": [
    "# What is the distribution of interactions (impressions and conversions) in the dataset? \n",
    "\n",
    "interaction_percentages = df['interaction'].value_counts(normalize=True) * 100\n",
    "plt.figure(figsize=(8, 4))\n",
    "interaction_percentages.plot(kind='bar')\n",
    "plt.xlabel('Interaction')\n",
    "plt.ylabel('Relative Percentage')\n",
    "plt.title('Relative Distribution of Interactions')\n",
    "\n",
    "total_interactions = interaction_percentages.sum()\n",
    "for i, value in enumerate(interaction_percentages):\n",
    "    plt.text(i, value, f'{value:.2f}%', ha='center', va='bottom')\n",
    "\n",
    "plt.xticks(rotation=0)\n",
    "plt.ylim(0, 100) \n",
    "plt.show()\n",
    "\n",
    "# 전체 유입량 중 3%만 전환한다"
   ]
  },
  {
   "cell_type": "code",
   "execution_count": 84,
   "id": "dfa67e78",
   "metadata": {},
   "outputs": [
    {
     "data": {
      "image/png": "[encoded data removed]",
      "text/plain": [
       "<Figure size 576x288 with 1 Axes>"
      ]
     },
     "metadata": {
      "needs_background": "light"
     },
     "output_type": "display_data"
    }
   ],
   "source": [
    "# What is the range and distribution of conversion values? \n",
    "\n",
    "conversion_data = df[df['conversion'] == 1]\n",
    "plt.figure(figsize=(8, 4))\n",
    "plt.hist(conversion_data['conversion_value'], bins=10)\n",
    "plt.xlabel('Conversion Value')\n",
    "plt.ylabel('Count')\n",
    "plt.title('Distribution of Conversion Values (Converted Only)')\n",
    "plt.show()\n",
    "\n",
    "\n",
    "# 전환한 것들은 보통 6-7유로 사용. 아웃라이어는 없어보임"
   ]
  },
  {
   "cell_type": "code",
   "execution_count": 85,
   "id": "fda45890",
   "metadata": {},
   "outputs": [
    {
     "data": {
      "image/png": "[encoded data removed]",
      "text/plain": [
       "<Figure size 576x288 with 1 Axes>"
      ]
     },
     "metadata": {
      "needs_background": "light"
     },
     "output_type": "display_data"
    }
   ],
   "source": [
    "day_counts = df['dayofweek'].value_counts().sort_index()\n",
    "plt.figure(figsize=(8, 4))\n",
    "day_counts.plot(kind='line')\n",
    "plt.xlabel('Day of the Week')\n",
    "plt.ylabel('Count')\n",
    "plt.title('Day of the Week Distribution')\n",
    "plt.xticks(rotation=0)\n",
    "plt.show()"
   ]
  },
  {
   "cell_type": "code",
   "execution_count": 86,
   "id": "d075f984",
   "metadata": {},
   "outputs": [
    {
     "data": {
      "image/png": "[encoded data removed]",
      "text/plain": [
       "<Figure size 720x432 with 2 Axes>"
      ]
     },
     "metadata": {
      "needs_background": "light"
     },
     "output_type": "display_data"
    }
   ],
   "source": [
    "# Are there any relationships or correlations between different columns? \n",
    "# Do certain channels tend to have higher conversion values? Are conversions more common during specific hours of the day?\n",
    "\n",
    "correlation_matrix = df.corr()\n",
    "plt.figure(figsize=(10, 6))\n",
    "plt.imshow(correlation_matrix, cmap='coolwarm', interpolation='nearest')\n",
    "plt.colorbar()\n",
    "plt.xticks(range(len(correlation_matrix.columns)), correlation_matrix.columns)\n",
    "plt.yticks(range(len(correlation_matrix.columns)), correlation_matrix.columns)\n",
    "plt.title('Correlation Matrix')\n",
    "plt.show()"
   ]
  },
  {
   "cell_type": "code",
   "execution_count": 87,
   "id": "52ec0ae1",
   "metadata": {},
   "outputs": [
    {
     "data": {
      "image/png": "[encoded data removed]",
      "text/plain": [
       "<Figure size 576x288 with 1 Axes>"
      ]
     },
     "metadata": {
      "needs_background": "light"
     },
     "output_type": "display_data"
    }
   ],
   "source": [
    "# specific time intervals that consistently show higher or lower interaction rates?\n",
    "\n",
    "week_counts = df['weekofmonth'].value_counts().sort_index()\n",
    "plt.figure(figsize=(8, 4))\n",
    "week_counts.plot(kind='line')\n",
    "plt.xlabel('Week of the Month')\n",
    "plt.ylabel('Count')\n",
    "plt.title('Interactions by Week of the Month')\n",
    "plt.xticks(rotation=0)\n",
    "plt.show()"
   ]
  },
  {
   "cell_type": "code",
   "execution_count": 88,
   "id": "dfdb6b4b",
   "metadata": {
    "scrolled": true
   },
   "outputs": [
    {
     "data": {
      "image/png": "[encoded data removed]",
      "text/plain": [
       "<Figure size 576x288 with 1 Axes>"
      ]
     },
     "metadata": {
      "needs_background": "light"
     },
     "output_type": "display_data"
    }
   ],
   "source": [
    "conversion_rates = df.groupby('channel')['conversion'].mean()\n",
    "conversion_rates = conversion_rates.sort_values(ascending=False)\n",
    "\n",
    "plt.figure(figsize=(8, 4))\n",
    "conversion_rates.plot(kind='bar')\n",
    "plt.xlabel('Channel')\n",
    "plt.ylabel('Conversion Rate')\n",
    "plt.title('Conversion Rates by Channel')\n",
    "plt.xticks(rotation=0)\n",
    "\n",
    "for index, value in enumerate(conversion_rates):\n",
    "    plt.text(index, value, f'{value:.2%}', ha='center', va='bottom')\n",
    "\n",
    "plt.show()"
   ]
  },
  {
   "cell_type": "code",
   "execution_count": 89,
   "id": "3379e116",
   "metadata": {},
   "outputs": [
    {
     "ename": "KeyboardInterrupt",
     "evalue": "",
     "output_type": "error",
     "traceback": [
      "\u001b[1;31m---------------------------------------------------------------------------\u001b[0m",
      "\u001b[1;31mKeyboardInterrupt\u001b[0m                         Traceback (most recent call last)",
      "\u001b[1;32m<ipython-input-89-b508e88283cd>\u001b[0m in \u001b[0;36m<module>\u001b[1;34m\u001b[0m\n\u001b[0;32m      3\u001b[0m \u001b[0mconversion_rate_by_cohort\u001b[0m \u001b[1;33m=\u001b[0m \u001b[0mcohort_group\u001b[0m\u001b[1;33m[\u001b[0m\u001b[1;34m'conversion'\u001b[0m\u001b[1;33m]\u001b[0m\u001b[1;33m.\u001b[0m\u001b[0mmean\u001b[0m\u001b[1;33m(\u001b[0m\u001b[1;33m)\u001b[0m\u001b[1;33m\u001b[0m\u001b[1;33m\u001b[0m\u001b[0m\n\u001b[0;32m      4\u001b[0m \u001b[0mplt\u001b[0m\u001b[1;33m.\u001b[0m\u001b[0mfigure\u001b[0m\u001b[1;33m(\u001b[0m\u001b[0mfigsize\u001b[0m\u001b[1;33m=\u001b[0m\u001b[1;33m(\u001b[0m\u001b[1;36m8\u001b[0m\u001b[1;33m,\u001b[0m \u001b[1;36m6\u001b[0m\u001b[1;33m)\u001b[0m\u001b[1;33m)\u001b[0m\u001b[1;33m\u001b[0m\u001b[1;33m\u001b[0m\u001b[0m\n\u001b[1;32m----> 5\u001b[1;33m \u001b[0mconversion_rate_by_cohort\u001b[0m\u001b[1;33m.\u001b[0m\u001b[0mplot\u001b[0m\u001b[1;33m(\u001b[0m\u001b[0mkind\u001b[0m\u001b[1;33m=\u001b[0m\u001b[1;34m'bar'\u001b[0m\u001b[1;33m)\u001b[0m\u001b[1;33m\u001b[0m\u001b[1;33m\u001b[0m\u001b[0m\n\u001b[0m\u001b[0;32m      6\u001b[0m \u001b[0mplt\u001b[0m\u001b[1;33m.\u001b[0m\u001b[0mxlabel\u001b[0m\u001b[1;33m(\u001b[0m\u001b[1;34m'Cohort'\u001b[0m\u001b[1;33m)\u001b[0m\u001b[1;33m\u001b[0m\u001b[1;33m\u001b[0m\u001b[0m\n\u001b[0;32m      7\u001b[0m \u001b[0mplt\u001b[0m\u001b[1;33m.\u001b[0m\u001b[0mylabel\u001b[0m\u001b[1;33m(\u001b[0m\u001b[1;34m'Conversion Rate'\u001b[0m\u001b[1;33m)\u001b[0m\u001b[1;33m\u001b[0m\u001b[1;33m\u001b[0m\u001b[0m\n",
      "\u001b[1;32m~\\anaconda3\\lib\\site-packages\\pandas\\plotting\\_core.py\u001b[0m in \u001b[0;36m__call__\u001b[1;34m(self, *args, **kwargs)\u001b[0m\n\u001b[0;32m    953\u001b[0m                     \u001b[0mdata\u001b[0m\u001b[1;33m.\u001b[0m\u001b[0mcolumns\u001b[0m \u001b[1;33m=\u001b[0m \u001b[0mlabel_name\u001b[0m\u001b[1;33m\u001b[0m\u001b[1;33m\u001b[0m\u001b[0m\n\u001b[0;32m    954\u001b[0m \u001b[1;33m\u001b[0m\u001b[0m\n\u001b[1;32m--> 955\u001b[1;33m         \u001b[1;32mreturn\u001b[0m \u001b[0mplot_backend\u001b[0m\u001b[1;33m.\u001b[0m\u001b[0mplot\u001b[0m\u001b[1;33m(\u001b[0m\u001b[0mdata\u001b[0m\u001b[1;33m,\u001b[0m \u001b[0mkind\u001b[0m\u001b[1;33m=\u001b[0m\u001b[0mkind\u001b[0m\u001b[1;33m,\u001b[0m \u001b[1;33m**\u001b[0m\u001b[0mkwargs\u001b[0m\u001b[1;33m)\u001b[0m\u001b[1;33m\u001b[0m\u001b[1;33m\u001b[0m\u001b[0m\n\u001b[0m\u001b[0;32m    956\u001b[0m \u001b[1;33m\u001b[0m\u001b[0m\n\u001b[0;32m    957\u001b[0m     \u001b[0m__call__\u001b[0m\u001b[1;33m.\u001b[0m\u001b[0m__doc__\u001b[0m \u001b[1;33m=\u001b[0m \u001b[0m__doc__\u001b[0m\u001b[1;33m\u001b[0m\u001b[1;33m\u001b[0m\u001b[0m\n",
      "\u001b[1;32m~\\anaconda3\\lib\\site-packages\\pandas\\plotting\\_matplotlib\\__init__.py\u001b[0m in \u001b[0;36mplot\u001b[1;34m(data, kind, **kwargs)\u001b[0m\n\u001b[0;32m     59\u001b[0m             \u001b[0mkwargs\u001b[0m\u001b[1;33m[\u001b[0m\u001b[1;34m\"ax\"\u001b[0m\u001b[1;33m]\u001b[0m \u001b[1;33m=\u001b[0m \u001b[0mgetattr\u001b[0m\u001b[1;33m(\u001b[0m\u001b[0max\u001b[0m\u001b[1;33m,\u001b[0m \u001b[1;34m\"left_ax\"\u001b[0m\u001b[1;33m,\u001b[0m \u001b[0max\u001b[0m\u001b[1;33m)\u001b[0m\u001b[1;33m\u001b[0m\u001b[1;33m\u001b[0m\u001b[0m\n\u001b[0;32m     60\u001b[0m     \u001b[0mplot_obj\u001b[0m \u001b[1;33m=\u001b[0m \u001b[0mPLOT_CLASSES\u001b[0m\u001b[1;33m[\u001b[0m\u001b[0mkind\u001b[0m\u001b[1;33m]\u001b[0m\u001b[1;33m(\u001b[0m\u001b[0mdata\u001b[0m\u001b[1;33m,\u001b[0m \u001b[1;33m**\u001b[0m\u001b[0mkwargs\u001b[0m\u001b[1;33m)\u001b[0m\u001b[1;33m\u001b[0m\u001b[1;33m\u001b[0m\u001b[0m\n\u001b[1;32m---> 61\u001b[1;33m     \u001b[0mplot_obj\u001b[0m\u001b[1;33m.\u001b[0m\u001b[0mgenerate\u001b[0m\u001b[1;33m(\u001b[0m\u001b[1;33m)\u001b[0m\u001b[1;33m\u001b[0m\u001b[1;33m\u001b[0m\u001b[0m\n\u001b[0m\u001b[0;32m     62\u001b[0m     \u001b[0mplot_obj\u001b[0m\u001b[1;33m.\u001b[0m\u001b[0mdraw\u001b[0m\u001b[1;33m(\u001b[0m\u001b[1;33m)\u001b[0m\u001b[1;33m\u001b[0m\u001b[1;33m\u001b[0m\u001b[0m\n\u001b[0;32m     63\u001b[0m     \u001b[1;32mreturn\u001b[0m \u001b[0mplot_obj\u001b[0m\u001b[1;33m.\u001b[0m\u001b[0mresult\u001b[0m\u001b[1;33m\u001b[0m\u001b[1;33m\u001b[0m\u001b[0m\n",
      "\u001b[1;32m~\\anaconda3\\lib\\site-packages\\pandas\\plotting\\_matplotlib\\core.py\u001b[0m in \u001b[0;36mgenerate\u001b[1;34m(self)\u001b[0m\n\u001b[0;32m    278\u001b[0m         \u001b[0mself\u001b[0m\u001b[1;33m.\u001b[0m\u001b[0m_compute_plot_data\u001b[0m\u001b[1;33m(\u001b[0m\u001b[1;33m)\u001b[0m\u001b[1;33m\u001b[0m\u001b[1;33m\u001b[0m\u001b[0m\n\u001b[0;32m    279\u001b[0m         \u001b[0mself\u001b[0m\u001b[1;33m.\u001b[0m\u001b[0m_setup_subplots\u001b[0m\u001b[1;33m(\u001b[0m\u001b[1;33m)\u001b[0m\u001b[1;33m\u001b[0m\u001b[1;33m\u001b[0m\u001b[0m\n\u001b[1;32m--> 280\u001b[1;33m         \u001b[0mself\u001b[0m\u001b[1;33m.\u001b[0m\u001b[0m_make_plot\u001b[0m\u001b[1;33m(\u001b[0m\u001b[1;33m)\u001b[0m\u001b[1;33m\u001b[0m\u001b[1;33m\u001b[0m\u001b[0m\n\u001b[0m\u001b[0;32m    281\u001b[0m         \u001b[0mself\u001b[0m\u001b[1;33m.\u001b[0m\u001b[0m_add_table\u001b[0m\u001b[1;33m(\u001b[0m\u001b[1;33m)\u001b[0m\u001b[1;33m\u001b[0m\u001b[1;33m\u001b[0m\u001b[0m\n\u001b[0;32m    282\u001b[0m         \u001b[0mself\u001b[0m\u001b[1;33m.\u001b[0m\u001b[0m_make_legend\u001b[0m\u001b[1;33m(\u001b[0m\u001b[1;33m)\u001b[0m\u001b[1;33m\u001b[0m\u001b[1;33m\u001b[0m\u001b[0m\n",
      "\u001b[1;32m~\\anaconda3\\lib\\site-packages\\pandas\\plotting\\_matplotlib\\core.py\u001b[0m in \u001b[0;36m_make_plot\u001b[1;34m(self)\u001b[0m\n\u001b[0;32m   1473\u001b[0m             \u001b[1;32melse\u001b[0m\u001b[1;33m:\u001b[0m\u001b[1;33m\u001b[0m\u001b[1;33m\u001b[0m\u001b[0m\n\u001b[0;32m   1474\u001b[0m                 \u001b[0mw\u001b[0m \u001b[1;33m=\u001b[0m \u001b[0mself\u001b[0m\u001b[1;33m.\u001b[0m\u001b[0mbar_width\u001b[0m \u001b[1;33m/\u001b[0m \u001b[0mK\u001b[0m\u001b[1;33m\u001b[0m\u001b[1;33m\u001b[0m\u001b[0m\n\u001b[1;32m-> 1475\u001b[1;33m                 rect = self._plot(\n\u001b[0m\u001b[0;32m   1476\u001b[0m                     \u001b[0max\u001b[0m\u001b[1;33m,\u001b[0m\u001b[1;33m\u001b[0m\u001b[1;33m\u001b[0m\u001b[0m\n\u001b[0;32m   1477\u001b[0m                     \u001b[0mself\u001b[0m\u001b[1;33m.\u001b[0m\u001b[0max_pos\u001b[0m \u001b[1;33m+\u001b[0m \u001b[1;33m(\u001b[0m\u001b[0mi\u001b[0m \u001b[1;33m+\u001b[0m \u001b[1;36m0.5\u001b[0m\u001b[1;33m)\u001b[0m \u001b[1;33m*\u001b[0m \u001b[0mw\u001b[0m\u001b[1;33m,\u001b[0m\u001b[1;33m\u001b[0m\u001b[1;33m\u001b[0m\u001b[0m\n",
      "\u001b[1;32m~\\anaconda3\\lib\\site-packages\\pandas\\plotting\\_matplotlib\\core.py\u001b[0m in \u001b[0;36m_plot\u001b[1;34m(cls, ax, x, y, w, start, log, **kwds)\u001b[0m\n\u001b[0;32m   1404\u001b[0m     \u001b[1;33m@\u001b[0m\u001b[0mclassmethod\u001b[0m\u001b[1;33m\u001b[0m\u001b[1;33m\u001b[0m\u001b[0m\n\u001b[0;32m   1405\u001b[0m     \u001b[1;32mdef\u001b[0m \u001b[0m_plot\u001b[0m\u001b[1;33m(\u001b[0m\u001b[0mcls\u001b[0m\u001b[1;33m,\u001b[0m \u001b[0max\u001b[0m\u001b[1;33m:\u001b[0m \u001b[1;34m\"Axes\"\u001b[0m\u001b[1;33m,\u001b[0m \u001b[0mx\u001b[0m\u001b[1;33m,\u001b[0m \u001b[0my\u001b[0m\u001b[1;33m,\u001b[0m \u001b[0mw\u001b[0m\u001b[1;33m,\u001b[0m \u001b[0mstart\u001b[0m\u001b[1;33m=\u001b[0m\u001b[1;36m0\u001b[0m\u001b[1;33m,\u001b[0m \u001b[0mlog\u001b[0m\u001b[1;33m=\u001b[0m\u001b[1;32mFalse\u001b[0m\u001b[1;33m,\u001b[0m \u001b[1;33m**\u001b[0m\u001b[0mkwds\u001b[0m\u001b[1;33m)\u001b[0m\u001b[1;33m:\u001b[0m\u001b[1;33m\u001b[0m\u001b[1;33m\u001b[0m\u001b[0m\n\u001b[1;32m-> 1406\u001b[1;33m         \u001b[1;32mreturn\u001b[0m \u001b[0max\u001b[0m\u001b[1;33m.\u001b[0m\u001b[0mbar\u001b[0m\u001b[1;33m(\u001b[0m\u001b[0mx\u001b[0m\u001b[1;33m,\u001b[0m \u001b[0my\u001b[0m\u001b[1;33m,\u001b[0m \u001b[0mw\u001b[0m\u001b[1;33m,\u001b[0m \u001b[0mbottom\u001b[0m\u001b[1;33m=\u001b[0m\u001b[0mstart\u001b[0m\u001b[1;33m,\u001b[0m \u001b[0mlog\u001b[0m\u001b[1;33m=\u001b[0m\u001b[0mlog\u001b[0m\u001b[1;33m,\u001b[0m \u001b[1;33m**\u001b[0m\u001b[0mkwds\u001b[0m\u001b[1;33m)\u001b[0m\u001b[1;33m\u001b[0m\u001b[1;33m\u001b[0m\u001b[0m\n\u001b[0m\u001b[0;32m   1407\u001b[0m \u001b[1;33m\u001b[0m\u001b[0m\n\u001b[0;32m   1408\u001b[0m     \u001b[1;33m@\u001b[0m\u001b[0mproperty\u001b[0m\u001b[1;33m\u001b[0m\u001b[1;33m\u001b[0m\u001b[0m\n",
      "\u001b[1;32m~\\anaconda3\\lib\\site-packages\\matplotlib\\__init__.py\u001b[0m in \u001b[0;36minner\u001b[1;34m(ax, data, *args, **kwargs)\u001b[0m\n\u001b[0;32m   1445\u001b[0m     \u001b[1;32mdef\u001b[0m \u001b[0minner\u001b[0m\u001b[1;33m(\u001b[0m\u001b[0max\u001b[0m\u001b[1;33m,\u001b[0m \u001b[1;33m*\u001b[0m\u001b[0margs\u001b[0m\u001b[1;33m,\u001b[0m \u001b[0mdata\u001b[0m\u001b[1;33m=\u001b[0m\u001b[1;32mNone\u001b[0m\u001b[1;33m,\u001b[0m \u001b[1;33m**\u001b[0m\u001b[0mkwargs\u001b[0m\u001b[1;33m)\u001b[0m\u001b[1;33m:\u001b[0m\u001b[1;33m\u001b[0m\u001b[1;33m\u001b[0m\u001b[0m\n\u001b[0;32m   1446\u001b[0m         \u001b[1;32mif\u001b[0m \u001b[0mdata\u001b[0m \u001b[1;32mis\u001b[0m \u001b[1;32mNone\u001b[0m\u001b[1;33m:\u001b[0m\u001b[1;33m\u001b[0m\u001b[1;33m\u001b[0m\u001b[0m\n\u001b[1;32m-> 1447\u001b[1;33m             \u001b[1;32mreturn\u001b[0m \u001b[0mfunc\u001b[0m\u001b[1;33m(\u001b[0m\u001b[0max\u001b[0m\u001b[1;33m,\u001b[0m \u001b[1;33m*\u001b[0m\u001b[0mmap\u001b[0m\u001b[1;33m(\u001b[0m\u001b[0msanitize_sequence\u001b[0m\u001b[1;33m,\u001b[0m \u001b[0margs\u001b[0m\u001b[1;33m)\u001b[0m\u001b[1;33m,\u001b[0m \u001b[1;33m**\u001b[0m\u001b[0mkwargs\u001b[0m\u001b[1;33m)\u001b[0m\u001b[1;33m\u001b[0m\u001b[1;33m\u001b[0m\u001b[0m\n\u001b[0m\u001b[0;32m   1448\u001b[0m \u001b[1;33m\u001b[0m\u001b[0m\n\u001b[0;32m   1449\u001b[0m         \u001b[0mbound\u001b[0m \u001b[1;33m=\u001b[0m \u001b[0mnew_sig\u001b[0m\u001b[1;33m.\u001b[0m\u001b[0mbind\u001b[0m\u001b[1;33m(\u001b[0m\u001b[0max\u001b[0m\u001b[1;33m,\u001b[0m \u001b[1;33m*\u001b[0m\u001b[0margs\u001b[0m\u001b[1;33m,\u001b[0m \u001b[1;33m**\u001b[0m\u001b[0mkwargs\u001b[0m\u001b[1;33m)\u001b[0m\u001b[1;33m\u001b[0m\u001b[1;33m\u001b[0m\u001b[0m\n",
      "\u001b[1;32m~\\anaconda3\\lib\\site-packages\\matplotlib\\axes\\_axes.py\u001b[0m in \u001b[0;36mbar\u001b[1;34m(self, x, height, width, bottom, align, **kwargs)\u001b[0m\n\u001b[0;32m   2492\u001b[0m             \u001b[1;32melif\u001b[0m \u001b[0morientation\u001b[0m \u001b[1;33m==\u001b[0m \u001b[1;34m'horizontal'\u001b[0m\u001b[1;33m:\u001b[0m\u001b[1;33m\u001b[0m\u001b[1;33m\u001b[0m\u001b[0m\n\u001b[0;32m   2493\u001b[0m                 \u001b[0mr\u001b[0m\u001b[1;33m.\u001b[0m\u001b[0msticky_edges\u001b[0m\u001b[1;33m.\u001b[0m\u001b[0mx\u001b[0m\u001b[1;33m.\u001b[0m\u001b[0mappend\u001b[0m\u001b[1;33m(\u001b[0m\u001b[0ml\u001b[0m\u001b[1;33m)\u001b[0m\u001b[1;33m\u001b[0m\u001b[1;33m\u001b[0m\u001b[0m\n\u001b[1;32m-> 2494\u001b[1;33m             \u001b[0mself\u001b[0m\u001b[1;33m.\u001b[0m\u001b[0madd_patch\u001b[0m\u001b[1;33m(\u001b[0m\u001b[0mr\u001b[0m\u001b[1;33m)\u001b[0m\u001b[1;33m\u001b[0m\u001b[1;33m\u001b[0m\u001b[0m\n\u001b[0m\u001b[0;32m   2495\u001b[0m             \u001b[0mpatches\u001b[0m\u001b[1;33m.\u001b[0m\u001b[0mappend\u001b[0m\u001b[1;33m(\u001b[0m\u001b[0mr\u001b[0m\u001b[1;33m)\u001b[0m\u001b[1;33m\u001b[0m\u001b[1;33m\u001b[0m\u001b[0m\n\u001b[0;32m   2496\u001b[0m \u001b[1;33m\u001b[0m\u001b[0m\n",
      "\u001b[1;32m~\\anaconda3\\lib\\site-packages\\matplotlib\\axes\\_base.py\u001b[0m in \u001b[0;36madd_patch\u001b[1;34m(self, p)\u001b[0m\n\u001b[0;32m   2031\u001b[0m         \u001b[1;32mif\u001b[0m \u001b[0mp\u001b[0m\u001b[1;33m.\u001b[0m\u001b[0mget_clip_path\u001b[0m\u001b[1;33m(\u001b[0m\u001b[1;33m)\u001b[0m \u001b[1;32mis\u001b[0m \u001b[1;32mNone\u001b[0m\u001b[1;33m:\u001b[0m\u001b[1;33m\u001b[0m\u001b[1;33m\u001b[0m\u001b[0m\n\u001b[0;32m   2032\u001b[0m             \u001b[0mp\u001b[0m\u001b[1;33m.\u001b[0m\u001b[0mset_clip_path\u001b[0m\u001b[1;33m(\u001b[0m\u001b[0mself\u001b[0m\u001b[1;33m.\u001b[0m\u001b[0mpatch\u001b[0m\u001b[1;33m)\u001b[0m\u001b[1;33m\u001b[0m\u001b[1;33m\u001b[0m\u001b[0m\n\u001b[1;32m-> 2033\u001b[1;33m         \u001b[0mself\u001b[0m\u001b[1;33m.\u001b[0m\u001b[0m_update_patch_limits\u001b[0m\u001b[1;33m(\u001b[0m\u001b[0mp\u001b[0m\u001b[1;33m)\u001b[0m\u001b[1;33m\u001b[0m\u001b[1;33m\u001b[0m\u001b[0m\n\u001b[0m\u001b[0;32m   2034\u001b[0m         \u001b[0mself\u001b[0m\u001b[1;33m.\u001b[0m\u001b[0mpatches\u001b[0m\u001b[1;33m.\u001b[0m\u001b[0mappend\u001b[0m\u001b[1;33m(\u001b[0m\u001b[0mp\u001b[0m\u001b[1;33m)\u001b[0m\u001b[1;33m\u001b[0m\u001b[1;33m\u001b[0m\u001b[0m\n\u001b[0;32m   2035\u001b[0m         \u001b[0mp\u001b[0m\u001b[1;33m.\u001b[0m\u001b[0m_remove_method\u001b[0m \u001b[1;33m=\u001b[0m \u001b[0mself\u001b[0m\u001b[1;33m.\u001b[0m\u001b[0mpatches\u001b[0m\u001b[1;33m.\u001b[0m\u001b[0mremove\u001b[0m\u001b[1;33m\u001b[0m\u001b[1;33m\u001b[0m\u001b[0m\n",
      "\u001b[1;32m~\\anaconda3\\lib\\site-packages\\matplotlib\\axes\\_base.py\u001b[0m in \u001b[0;36m_update_patch_limits\u001b[1;34m(self, patch)\u001b[0m\n\u001b[0;32m   2057\u001b[0m                 \u001b[0mxys\u001b[0m \u001b[1;33m=\u001b[0m \u001b[0mpatch_to_data\u001b[0m\u001b[1;33m.\u001b[0m\u001b[0mtransform\u001b[0m\u001b[1;33m(\u001b[0m\u001b[0mxys\u001b[0m\u001b[1;33m)\u001b[0m\u001b[1;33m\u001b[0m\u001b[1;33m\u001b[0m\u001b[0m\n\u001b[0;32m   2058\u001b[0m \u001b[1;33m\u001b[0m\u001b[0m\n\u001b[1;32m-> 2059\u001b[1;33m             \u001b[0mupdatex\u001b[0m\u001b[1;33m,\u001b[0m \u001b[0mupdatey\u001b[0m \u001b[1;33m=\u001b[0m \u001b[0mpatch\u001b[0m\u001b[1;33m.\u001b[0m\u001b[0mget_transform\u001b[0m\u001b[1;33m(\u001b[0m\u001b[1;33m)\u001b[0m\u001b[1;33m.\u001b[0m\u001b[0;31m\\\u001b[0m\u001b[1;33m\u001b[0m\u001b[1;33m\u001b[0m\u001b[0m\n\u001b[0m\u001b[0;32m   2060\u001b[0m                 \u001b[0mcontains_branch_seperately\u001b[0m\u001b[1;33m(\u001b[0m\u001b[0mself\u001b[0m\u001b[1;33m.\u001b[0m\u001b[0mtransData\u001b[0m\u001b[1;33m)\u001b[0m\u001b[1;33m\u001b[0m\u001b[1;33m\u001b[0m\u001b[0m\n\u001b[0;32m   2061\u001b[0m             self.update_datalim(xys, updatex=updatex,\n",
      "\u001b[1;32m~\\anaconda3\\lib\\site-packages\\matplotlib\\patches.py\u001b[0m in \u001b[0;36mget_transform\u001b[1;34m(self)\u001b[0m\n\u001b[0;32m    258\u001b[0m     \u001b[1;32mdef\u001b[0m \u001b[0mget_transform\u001b[0m\u001b[1;33m(\u001b[0m\u001b[0mself\u001b[0m\u001b[1;33m)\u001b[0m\u001b[1;33m:\u001b[0m\u001b[1;33m\u001b[0m\u001b[1;33m\u001b[0m\u001b[0m\n\u001b[0;32m    259\u001b[0m         \u001b[1;34m\"\"\"Return the `~.transforms.Transform` applied to the `Patch`.\"\"\"\u001b[0m\u001b[1;33m\u001b[0m\u001b[1;33m\u001b[0m\u001b[0m\n\u001b[1;32m--> 260\u001b[1;33m         \u001b[1;32mreturn\u001b[0m \u001b[0mself\u001b[0m\u001b[1;33m.\u001b[0m\u001b[0mget_patch_transform\u001b[0m\u001b[1;33m(\u001b[0m\u001b[1;33m)\u001b[0m \u001b[1;33m+\u001b[0m \u001b[0martist\u001b[0m\u001b[1;33m.\u001b[0m\u001b[0mArtist\u001b[0m\u001b[1;33m.\u001b[0m\u001b[0mget_transform\u001b[0m\u001b[1;33m(\u001b[0m\u001b[0mself\u001b[0m\u001b[1;33m)\u001b[0m\u001b[1;33m\u001b[0m\u001b[1;33m\u001b[0m\u001b[0m\n\u001b[0m\u001b[0;32m    261\u001b[0m \u001b[1;33m\u001b[0m\u001b[0m\n\u001b[0;32m    262\u001b[0m     \u001b[1;32mdef\u001b[0m \u001b[0mget_data_transform\u001b[0m\u001b[1;33m(\u001b[0m\u001b[0mself\u001b[0m\u001b[1;33m)\u001b[0m\u001b[1;33m:\u001b[0m\u001b[1;33m\u001b[0m\u001b[1;33m\u001b[0m\u001b[0m\n",
      "\u001b[1;32m~\\anaconda3\\lib\\site-packages\\matplotlib\\patches.py\u001b[0m in \u001b[0;36mget_patch_transform\u001b[1;34m(self)\u001b[0m\n\u001b[0;32m    790\u001b[0m \u001b[1;33m\u001b[0m\u001b[0m\n\u001b[0;32m    791\u001b[0m     \u001b[1;32mdef\u001b[0m \u001b[0mget_patch_transform\u001b[0m\u001b[1;33m(\u001b[0m\u001b[0mself\u001b[0m\u001b[1;33m)\u001b[0m\u001b[1;33m:\u001b[0m\u001b[1;33m\u001b[0m\u001b[1;33m\u001b[0m\u001b[0m\n\u001b[1;32m--> 792\u001b[1;33m         \u001b[0mself\u001b[0m\u001b[1;33m.\u001b[0m\u001b[0m_update_patch_transform\u001b[0m\u001b[1;33m(\u001b[0m\u001b[1;33m)\u001b[0m\u001b[1;33m\u001b[0m\u001b[1;33m\u001b[0m\u001b[0m\n\u001b[0m\u001b[0;32m    793\u001b[0m         \u001b[1;32mreturn\u001b[0m \u001b[0mself\u001b[0m\u001b[1;33m.\u001b[0m\u001b[0m_rect_transform\u001b[0m\u001b[1;33m\u001b[0m\u001b[1;33m\u001b[0m\u001b[0m\n\u001b[0;32m    794\u001b[0m \u001b[1;33m\u001b[0m\u001b[0m\n",
      "\u001b[1;32m~\\anaconda3\\lib\\site-packages\\matplotlib\\patches.py\u001b[0m in \u001b[0;36m_update_patch_transform\u001b[1;34m(self)\u001b[0m\n\u001b[0;32m    771\u001b[0m         \u001b[0mbbox\u001b[0m \u001b[1;33m=\u001b[0m \u001b[0mtransforms\u001b[0m\u001b[1;33m.\u001b[0m\u001b[0mBbox\u001b[0m\u001b[1;33m.\u001b[0m\u001b[0mfrom_extents\u001b[0m\u001b[1;33m(\u001b[0m\u001b[0mx0\u001b[0m\u001b[1;33m,\u001b[0m \u001b[0my0\u001b[0m\u001b[1;33m,\u001b[0m \u001b[0mx1\u001b[0m\u001b[1;33m,\u001b[0m \u001b[0my1\u001b[0m\u001b[1;33m)\u001b[0m\u001b[1;33m\u001b[0m\u001b[1;33m\u001b[0m\u001b[0m\n\u001b[0;32m    772\u001b[0m         \u001b[0mrot_trans\u001b[0m \u001b[1;33m=\u001b[0m \u001b[0mtransforms\u001b[0m\u001b[1;33m.\u001b[0m\u001b[0mAffine2D\u001b[0m\u001b[1;33m(\u001b[0m\u001b[1;33m)\u001b[0m\u001b[1;33m\u001b[0m\u001b[1;33m\u001b[0m\u001b[0m\n\u001b[1;32m--> 773\u001b[1;33m         \u001b[0mrot_trans\u001b[0m\u001b[1;33m.\u001b[0m\u001b[0mrotate_deg_around\u001b[0m\u001b[1;33m(\u001b[0m\u001b[0mx0\u001b[0m\u001b[1;33m,\u001b[0m \u001b[0my0\u001b[0m\u001b[1;33m,\u001b[0m \u001b[0mself\u001b[0m\u001b[1;33m.\u001b[0m\u001b[0mangle\u001b[0m\u001b[1;33m)\u001b[0m\u001b[1;33m\u001b[0m\u001b[1;33m\u001b[0m\u001b[0m\n\u001b[0m\u001b[0;32m    774\u001b[0m         \u001b[0mself\u001b[0m\u001b[1;33m.\u001b[0m\u001b[0m_rect_transform\u001b[0m \u001b[1;33m=\u001b[0m \u001b[0mtransforms\u001b[0m\u001b[1;33m.\u001b[0m\u001b[0mBboxTransformTo\u001b[0m\u001b[1;33m(\u001b[0m\u001b[0mbbox\u001b[0m\u001b[1;33m)\u001b[0m\u001b[1;33m\u001b[0m\u001b[1;33m\u001b[0m\u001b[0m\n\u001b[0;32m    775\u001b[0m         \u001b[0mself\u001b[0m\u001b[1;33m.\u001b[0m\u001b[0m_rect_transform\u001b[0m \u001b[1;33m+=\u001b[0m \u001b[0mrot_trans\u001b[0m\u001b[1;33m\u001b[0m\u001b[1;33m\u001b[0m\u001b[0m\n",
      "\u001b[1;32m~\\anaconda3\\lib\\site-packages\\matplotlib\\transforms.py\u001b[0m in \u001b[0;36mrotate_deg_around\u001b[1;34m(self, x, y, degrees)\u001b[0m\n\u001b[0;32m   1965\u001b[0m         \u001b[1;31m# Cast to float to avoid wraparound issues with uint8's\u001b[0m\u001b[1;33m\u001b[0m\u001b[1;33m\u001b[0m\u001b[1;33m\u001b[0m\u001b[0m\n\u001b[0;32m   1966\u001b[0m         \u001b[0mx\u001b[0m\u001b[1;33m,\u001b[0m \u001b[0my\u001b[0m \u001b[1;33m=\u001b[0m \u001b[0mfloat\u001b[0m\u001b[1;33m(\u001b[0m\u001b[0mx\u001b[0m\u001b[1;33m)\u001b[0m\u001b[1;33m,\u001b[0m \u001b[0mfloat\u001b[0m\u001b[1;33m(\u001b[0m\u001b[0my\u001b[0m\u001b[1;33m)\u001b[0m\u001b[1;33m\u001b[0m\u001b[1;33m\u001b[0m\u001b[0m\n\u001b[1;32m-> 1967\u001b[1;33m         \u001b[1;32mreturn\u001b[0m \u001b[0mself\u001b[0m\u001b[1;33m.\u001b[0m\u001b[0mtranslate\u001b[0m\u001b[1;33m(\u001b[0m\u001b[1;33m-\u001b[0m\u001b[0mx\u001b[0m\u001b[1;33m,\u001b[0m \u001b[1;33m-\u001b[0m\u001b[0my\u001b[0m\u001b[1;33m)\u001b[0m\u001b[1;33m.\u001b[0m\u001b[0mrotate_deg\u001b[0m\u001b[1;33m(\u001b[0m\u001b[0mdegrees\u001b[0m\u001b[1;33m)\u001b[0m\u001b[1;33m.\u001b[0m\u001b[0mtranslate\u001b[0m\u001b[1;33m(\u001b[0m\u001b[0mx\u001b[0m\u001b[1;33m,\u001b[0m \u001b[0my\u001b[0m\u001b[1;33m)\u001b[0m\u001b[1;33m\u001b[0m\u001b[1;33m\u001b[0m\u001b[0m\n\u001b[0m\u001b[0;32m   1968\u001b[0m \u001b[1;33m\u001b[0m\u001b[0m\n\u001b[0;32m   1969\u001b[0m     \u001b[1;32mdef\u001b[0m \u001b[0mtranslate\u001b[0m\u001b[1;33m(\u001b[0m\u001b[0mself\u001b[0m\u001b[1;33m,\u001b[0m \u001b[0mtx\u001b[0m\u001b[1;33m,\u001b[0m \u001b[0mty\u001b[0m\u001b[1;33m)\u001b[0m\u001b[1;33m:\u001b[0m\u001b[1;33m\u001b[0m\u001b[1;33m\u001b[0m\u001b[0m\n",
      "\u001b[1;32m~\\anaconda3\\lib\\site-packages\\matplotlib\\transforms.py\u001b[0m in \u001b[0;36mrotate_deg\u001b[1;34m(self, degrees)\u001b[0m\n\u001b[0;32m   1943\u001b[0m         \u001b[1;32mand\u001b[0m \u001b[1;33m:\u001b[0m\u001b[0mmeth\u001b[0m\u001b[1;33m:\u001b[0m\u001b[0;31m`\u001b[0m\u001b[0mscale\u001b[0m\u001b[0;31m`\u001b[0m\u001b[1;33m.\u001b[0m\u001b[1;33m\u001b[0m\u001b[1;33m\u001b[0m\u001b[0m\n\u001b[0;32m   1944\u001b[0m         \"\"\"\n\u001b[1;32m-> 1945\u001b[1;33m         \u001b[1;32mreturn\u001b[0m \u001b[0mself\u001b[0m\u001b[1;33m.\u001b[0m\u001b[0mrotate\u001b[0m\u001b[1;33m(\u001b[0m\u001b[0mmath\u001b[0m\u001b[1;33m.\u001b[0m\u001b[0mradians\u001b[0m\u001b[1;33m(\u001b[0m\u001b[0mdegrees\u001b[0m\u001b[1;33m)\u001b[0m\u001b[1;33m)\u001b[0m\u001b[1;33m\u001b[0m\u001b[1;33m\u001b[0m\u001b[0m\n\u001b[0m\u001b[0;32m   1946\u001b[0m \u001b[1;33m\u001b[0m\u001b[0m\n\u001b[0;32m   1947\u001b[0m     \u001b[1;32mdef\u001b[0m \u001b[0mrotate_around\u001b[0m\u001b[1;33m(\u001b[0m\u001b[0mself\u001b[0m\u001b[1;33m,\u001b[0m \u001b[0mx\u001b[0m\u001b[1;33m,\u001b[0m \u001b[0my\u001b[0m\u001b[1;33m,\u001b[0m \u001b[0mtheta\u001b[0m\u001b[1;33m)\u001b[0m\u001b[1;33m:\u001b[0m\u001b[1;33m\u001b[0m\u001b[1;33m\u001b[0m\u001b[0m\n",
      "\u001b[1;32m~\\anaconda3\\lib\\site-packages\\matplotlib\\transforms.py\u001b[0m in \u001b[0;36mrotate\u001b[1;34m(self, theta)\u001b[0m\n\u001b[0;32m   1931\u001b[0m         rotate_mtx = np.array([[a, -b, 0.0], [b, a, 0.0], [0.0, 0.0, 1.0]],\n\u001b[0;32m   1932\u001b[0m                               float)\n\u001b[1;32m-> 1933\u001b[1;33m         \u001b[0mself\u001b[0m\u001b[1;33m.\u001b[0m\u001b[0m_mtx\u001b[0m \u001b[1;33m=\u001b[0m \u001b[0mnp\u001b[0m\u001b[1;33m.\u001b[0m\u001b[0mdot\u001b[0m\u001b[1;33m(\u001b[0m\u001b[0mrotate_mtx\u001b[0m\u001b[1;33m,\u001b[0m \u001b[0mself\u001b[0m\u001b[1;33m.\u001b[0m\u001b[0m_mtx\u001b[0m\u001b[1;33m)\u001b[0m\u001b[1;33m\u001b[0m\u001b[1;33m\u001b[0m\u001b[0m\n\u001b[0m\u001b[0;32m   1934\u001b[0m         \u001b[0mself\u001b[0m\u001b[1;33m.\u001b[0m\u001b[0minvalidate\u001b[0m\u001b[1;33m(\u001b[0m\u001b[1;33m)\u001b[0m\u001b[1;33m\u001b[0m\u001b[1;33m\u001b[0m\u001b[0m\n\u001b[0;32m   1935\u001b[0m         \u001b[1;32mreturn\u001b[0m \u001b[0mself\u001b[0m\u001b[1;33m\u001b[0m\u001b[1;33m\u001b[0m\u001b[0m\n",
      "\u001b[1;32m<__array_function__ internals>\u001b[0m in \u001b[0;36mdot\u001b[1;34m(*args, **kwargs)\u001b[0m\n",
      "\u001b[1;31mKeyboardInterrupt\u001b[0m: "
     ]
    },
    {
     "data": {
      "image/png": "[encoded data removed]",
      "text/plain": [
       "<Figure size 576x432 with 1 Axes>"
      ]
     },
     "metadata": {
      "needs_background": "light"
     },
     "output_type": "display_data"
    }
   ],
   "source": [
    "df['time'] = pd.to_datetime(df['time'])\n",
    "cohort_group = df.groupby(df['cookie'].map(lambda x: x.split('_')[0]))\n",
    "conversion_rate_by_cohort = cohort_group['conversion'].mean()\n",
    "plt.figure(figsize=(8, 6))\n",
    "conversion_rate_by_cohort.plot(kind='bar')\n",
    "plt.xlabel('Cohort')\n",
    "plt.ylabel('Conversion Rate')\n",
    "plt.title('Conversion Rate by Cohort')\n",
    "plt.xticks(rotation=0)\n",
    "plt.show()"
   ]
  },
  {
   "cell_type": "code",
   "execution_count": null,
   "id": "3f9abdcc",
   "metadata": {},
   "outputs": [],
   "source": [
    "# 내가 알고 싶은 것들을 종합해보자. 어떤 채널이 가장 사람들의 구매 의욕을 불러일으키느냐.\n",
    "# 1) 전반적으로 어떤 채널이 가장 전환율이 높을까? 이때 전환율은 액션당임. 한 사람이 여러번 들어오면 여러번임.\n",
    "# 동시에 어떤 채널이 가장 허수가 많을까? 100번 들어와도 1번 사는 거다. 즉 전환율이 낮은거다. 배너 보고 혹해서 들어왔는데 안사고 나가는 경우.\n",
    "# 근데 3) 처럼 허수가 있대도 실제로 상품 질은 좋을 수 있음. 웹사이트가 문제일수도.\n",
    "\n",
    "# 2) 특정 시간에 (혹은 특정 요일에) 특정 미디어를 사용할 때 더 전환율이 높을까? (더 구매의욕을 불러일으킬까?)\n",
    "\n",
    "# 3) 만약 전환율을 액션당이 아니라 사람당이라고 하면 - 어떤 채널의 액션당 전환율은 낮은데 (10번 들어와도 2번 산다) 사람당 전환율은 높다면 (5명이 상품 페이지에 진입했는데 2명이 샀다)\n",
    "# 중간에 결제 전에 방해하는 것이 있따는 것. 트래픽 기준 전환율과 사람 기준 전환율을 비교해보자.\n",
    "\n",
    "# 4) 같은 광고를 한사람당 몇번을 봐야 한번 들어와볼 생각을 할까?\n",
    "\n",
    "# 5) 어트리뷰션 윈도우 정리하자\n",
    "# 6) 광고별 특성 정리하자"
   ]
  },
  {
   "cell_type": "markdown",
   "id": "c2bb40d4",
   "metadata": {},
   "source": [
    "Instagram:\n",
    "\n",
    "Visual-oriented platform primarily focused on sharing images and videos.\n",
    "Popular among younger demographics, particularly millennials and Gen Z.\n",
    "Engaging and interactive content formats such as Stories and IGTV.\n",
    "Influencer marketing plays a significant role.\n",
    "Users often discover new products and brands through Instagram.\n",
    "\n",
    "Online Display:\n",
    "\n",
    "Advertising banners or visuals displayed on websites and apps.\n",
    "Broad reach across various websites and target audiences.\n",
    "Can be effective for brand awareness and exposure.\n",
    "Often used for retargeting campaigns to reach users who have shown interest.\n",
    "Engagement rates can vary based on the design and placement of the ads.\n",
    "\n",
    "Paid Search:\n",
    "\n",
    "Advertising on search engines, such as Google Ads or Bing Ads.\n",
    "Targeted based on keywords and user search queries.\n",
    "Users actively searching for products or services.\n",
    "High intent audience looking for specific information or solutions.\n",
    "Effective for capturing users at the bottom of the marketing funnel.\n",
    "\n",
    "Facebook:\n",
    "\n",
    "Extensive user base with a wide range of demographics.\n",
    "Diverse ad formats, including image ads, video ads, and carousel ads.\n",
    "Advanced targeting options based on user interests, demographics, and behaviors.\n",
    "Suitable for both brand awareness and direct response campaigns.\n",
    "Strong emphasis on social interactions and user engagement.\n",
    "\n",
    "Online Video:\n",
    "\n",
    "Video advertising on platforms such as YouTube or streaming services.\n",
    "High engagement and consumption of video content.\n",
    "Can be used for various objectives, including brand awareness, storytelling, or product demonstrations.\n",
    "Skippable and non-skippable ad formats available.\n",
    "Popular among younger audiences and those who prefer video content.\n"
   ]
  },
  {
   "cell_type": "code",
   "execution_count": null,
   "id": "2980f0f2",
   "metadata": {},
   "outputs": [],
   "source": [
    "hour = (df[df['conversion']==1].groupby(['hour']).size()*100/df.groupby(['hour']).size()).reset_index(name = 'conversion rate')\n",
    "\n",
    "ax = sns.lineplot(x=hour.hour, y='conversion rate', data=hour, color=colors)\n",
    "ax.set_title(\"Conversion Rate by Day of Week (%)\", size=15)\n",
    "ax.figure.set_size_inches(13, 4)\n",
    "for x, y in zip(hour.hour, hour['conversion rate']):\n",
    "    ax.text(x, y, f'{y:.1f}', ha='center', va='bottom', size=12)\n",
    "ax.set_xticks(hour.hour) \n",
    "ax.set_xticklabels(hour.hour)\n",
    "plt.show()"
   ]
  },
  {
   "cell_type": "code",
   "execution_count": null,
   "id": "3a57339e",
   "metadata": {},
   "outputs": [],
   "source": [
    "dow = round((df[df['conversion']==1].groupby(['dayofweek']).size()*100/df.groupby(['dayofweek']).size()),3).reset_index(name = 'conversion rate')\n",
    "\n",
    "ax = sns.lineplot(x=dow.dayofweek, y='conversion rate', data=dow, color=colors)\n",
    "ax.set_title(\"Conversion Rate by Day of Week (%)\", size=15)\n",
    "ax.figure.set_size_inches(10, 4)\n",
    "\n",
    "for x, y in zip(dow.dayofweek, dow['conversion rate']):\n",
    "    ax.text(x, y, f'{y:.2f}', ha='center', va='bottom', size=12)\n",
    "plt.show()"
   ]
  },
  {
   "cell_type": "code",
   "execution_count": 131,
   "id": "5eb24322",
   "metadata": {},
   "outputs": [
    {
     "data": {
      "image/png": "[encoded data removed]",
      "text/plain": [
       "<Figure size 504x288 with 1 Axes>"
      ]
     },
     "metadata": {
      "needs_background": "light"
     },
     "output_type": "display_data"
    }
   ],
   "source": [
    "## total visit per channel, time, day of week? (한 사람이 야러번 들어오면 여러번 카운트)\n",
    "\n",
    "ch_con = df.groupby('channel').size().reset_index(name = 'total_visit').sort_values(by = 'total_visit', ascending = False)\n",
    "\n",
    "colors = sns.color_palette()[0]\n",
    "ax = sns.barplot(x = ch_con.channel, y = 'total_visit', data = ch_con, color = colors)\n",
    "ax.set_title(\"Total Visit by Channel (%)\", size = 15)\n",
    "ax.figure.set_size_inches(7,4)\n",
    "for bar, label in zip(ax.patches, ch_con['total_visit']):\n",
    "    x = bar.get_x()\n",
    "    width = bar.get_width()\n",
    "    height = bar.get_height()\n",
    "    ax.text(x+width/2., height, label, ha=\"center\", size=12) ;"
   ]
  },
  {
   "cell_type": "code",
   "execution_count": null,
   "id": "d197579c",
   "metadata": {},
   "outputs": [],
   "source": [
    "## actual customers per channel, time, day of week?\n"
   ]
  },
  {
   "cell_type": "code",
   "execution_count": null,
   "id": "0b24adac",
   "metadata": {},
   "outputs": [],
   "source": [
    "## customer percentage per channel, time, day of week?"
   ]
  },
  {
   "cell_type": "code",
   "execution_count": null,
   "id": "04df0581",
   "metadata": {},
   "outputs": [],
   "source": [
    "# conversion rate over time"
   ]
  },
  {
   "cell_type": "code",
   "execution_count": null,
   "id": "36b5d1e1",
   "metadata": {},
   "outputs": [],
   "source": [
    "## how many visit is completed before the 1st purchase? histrogram"
   ]
  },
  {
   "cell_type": "code",
   "execution_count": null,
   "id": "7b365d8c",
   "metadata": {},
   "outputs": [],
   "source": [
    "## purchase amount histrogram"
   ]
  },
  {
   "cell_type": "code",
   "execution_count": null,
   "id": "717aa9b5",
   "metadata": {},
   "outputs": [],
   "source": []
  },
  {
   "cell_type": "code",
   "execution_count": null,
   "id": "0b22e517",
   "metadata": {},
   "outputs": [],
   "source": []
  },
  {
   "cell_type": "code",
   "execution_count": null,
   "id": "c3677fe1",
   "metadata": {},
   "outputs": [],
   "source": [
    "# 1. Cohort by acquisition date - how much is avg purchase amount, total number of visitors and conversion rate per cohort?"
   ]
  },
  {
   "cell_type": "code",
   "execution_count": null,
   "id": "b1648713",
   "metadata": {},
   "outputs": [],
   "source": [
    "# 2. Cohort by hour "
   ]
  },
  {
   "cell_type": "code",
   "execution_count": null,
   "id": "e6708bad",
   "metadata": {},
   "outputs": [],
   "source": [
    "# 3. Cohort by day of week"
   ]
  },
  {
   "cell_type": "code",
   "execution_count": null,
   "id": "e5d73aaf",
   "metadata": {},
   "outputs": [],
   "source": []
  },
  {
   "cell_type": "markdown",
   "id": "73b9cb36",
   "metadata": {},
   "source": [
    "## Attribution Modeling"
   ]
  },
  {
   "cell_type": "code",
   "execution_count": 172,
   "id": "9bd5dbc7",
   "metadata": {
    "scrolled": true
   },
   "outputs": [],
   "source": [
    "# step 1. deciding attribution window for each channel.\n",
    "\n",
    "df['time'] = pd.to_datetime(df['time'])\n",
    "successful_conversions = df[df['conversion'] == 1]\n",
    "\n",
    "attribution_windows = {\n",
    "    'Instagram': timedelta(days=28),\n",
    "    'Online Display': timedelta(days=28),\n",
    "    'Paid Search': timedelta(days=28),\n",
    "    'Facebook': timedelta(days=28),\n",
    "    'Online Video': timedelta(days=28)}\n",
    "\n",
    "# I assigned 28 days to all channels, based on Facebook's attribution window value of 28 days for clicks "
   ]
  },
  {
   "cell_type": "code",
   "execution_count": 173,
   "id": "0301b46c",
   "metadata": {},
   "outputs": [
    {
     "data": {
      "text/html": [
       "<div>\n",
       "<style scoped>\n",
       "    .dataframe tbody tr th:only-of-type {\n",
       "        vertical-align: middle;\n",
       "    }\n",
       "\n",
       "    .dataframe tbody tr th {\n",
       "        vertical-align: top;\n",
       "    }\n",
       "\n",
       "    .dataframe thead th {\n",
       "        text-align: right;\n",
       "    }\n",
       "</style>\n",
       "<table border=\"1\" class=\"dataframe\">\n",
       "  <thead>\n",
       "    <tr style=\"text-align: right;\">\n",
       "      <th></th>\n",
       "      <th>cookie</th>\n",
       "      <th>time</th>\n",
       "      <th>interaction</th>\n",
       "      <th>conversion</th>\n",
       "      <th>conversion_value</th>\n",
       "      <th>channel</th>\n",
       "      <th>dayofweek</th>\n",
       "      <th>hour</th>\n",
       "      <th>weekofmonth</th>\n",
       "      <th>hour_group</th>\n",
       "      <th>attribution_validity</th>\n",
       "      <th>within_window</th>\n",
       "    </tr>\n",
       "  </thead>\n",
       "  <tbody>\n",
       "    <tr>\n",
       "      <th>0</th>\n",
       "      <td>00000FkCnDfDDf0iC97iC703B</td>\n",
       "      <td>2018-07-03 13:02:11+00:00</td>\n",
       "      <td>impression</td>\n",
       "      <td>0</td>\n",
       "      <td>0.0</td>\n",
       "      <td>Instagram</td>\n",
       "      <td>1_Tue</td>\n",
       "      <td>13</td>\n",
       "      <td>1</td>\n",
       "      <td>2_afternoon</td>\n",
       "      <td>2018-07-31 13:02:11+00:00</td>\n",
       "      <td>False</td>\n",
       "    </tr>\n",
       "    <tr>\n",
       "      <th>1</th>\n",
       "      <td>00000FkCnDfDDf0iC97iC703B</td>\n",
       "      <td>2018-07-17 19:15:07+00:00</td>\n",
       "      <td>impression</td>\n",
       "      <td>0</td>\n",
       "      <td>0.0</td>\n",
       "      <td>Online Display</td>\n",
       "      <td>1_Tue</td>\n",
       "      <td>19</td>\n",
       "      <td>3</td>\n",
       "      <td>3_evening</td>\n",
       "      <td>2018-08-14 19:15:07+00:00</td>\n",
       "      <td>False</td>\n",
       "    </tr>\n",
       "    <tr>\n",
       "      <th>2</th>\n",
       "      <td>00000FkCnDfDDf0iC97iC703B</td>\n",
       "      <td>2018-07-24 15:51:46+00:00</td>\n",
       "      <td>impression</td>\n",
       "      <td>0</td>\n",
       "      <td>0.0</td>\n",
       "      <td>Online Display</td>\n",
       "      <td>1_Tue</td>\n",
       "      <td>15</td>\n",
       "      <td>4</td>\n",
       "      <td>2_afternoon</td>\n",
       "      <td>2018-08-21 15:51:46+00:00</td>\n",
       "      <td>False</td>\n",
       "    </tr>\n",
       "    <tr>\n",
       "      <th>3</th>\n",
       "      <td>00000FkCnDfDDf0iC97iC703B</td>\n",
       "      <td>2018-07-29 07:44:51+00:00</td>\n",
       "      <td>impression</td>\n",
       "      <td>0</td>\n",
       "      <td>0.0</td>\n",
       "      <td>Online Display</td>\n",
       "      <td>6_Sun</td>\n",
       "      <td>7</td>\n",
       "      <td>4</td>\n",
       "      <td>1_morning</td>\n",
       "      <td>2018-08-26 07:44:51+00:00</td>\n",
       "      <td>False</td>\n",
       "    </tr>\n",
       "    <tr>\n",
       "      <th>4</th>\n",
       "      <td>0000nACkD9nFkBBDECD3ki00E</td>\n",
       "      <td>2018-07-03 09:44:57+00:00</td>\n",
       "      <td>impression</td>\n",
       "      <td>0</td>\n",
       "      <td>0.0</td>\n",
       "      <td>Paid Search</td>\n",
       "      <td>1_Tue</td>\n",
       "      <td>9</td>\n",
       "      <td>1</td>\n",
       "      <td>1_morning</td>\n",
       "      <td>2018-07-31 09:44:57+00:00</td>\n",
       "      <td>False</td>\n",
       "    </tr>\n",
       "  </tbody>\n",
       "</table>\n",
       "</div>"
      ],
      "text/plain": [
       "                      cookie                      time interaction  \\\n",
       "0  00000FkCnDfDDf0iC97iC703B 2018-07-03 13:02:11+00:00  impression   \n",
       "1  00000FkCnDfDDf0iC97iC703B 2018-07-17 19:15:07+00:00  impression   \n",
       "2  00000FkCnDfDDf0iC97iC703B 2018-07-24 15:51:46+00:00  impression   \n",
       "3  00000FkCnDfDDf0iC97iC703B 2018-07-29 07:44:51+00:00  impression   \n",
       "4  0000nACkD9nFkBBDECD3ki00E 2018-07-03 09:44:57+00:00  impression   \n",
       "\n",
       "   conversion  conversion_value         channel dayofweek  hour  weekofmonth  \\\n",
       "0           0               0.0       Instagram     1_Tue    13            1   \n",
       "1           0               0.0  Online Display     1_Tue    19            3   \n",
       "2           0               0.0  Online Display     1_Tue    15            4   \n",
       "3           0               0.0  Online Display     6_Sun     7            4   \n",
       "4           0               0.0     Paid Search     1_Tue     9            1   \n",
       "\n",
       "    hour_group      attribution_validity  within_window  \n",
       "0  2_afternoon 2018-07-31 13:02:11+00:00          False  \n",
       "1    3_evening 2018-08-14 19:15:07+00:00          False  \n",
       "2  2_afternoon 2018-08-21 15:51:46+00:00          False  \n",
       "3    1_morning 2018-08-26 07:44:51+00:00          False  \n",
       "4    1_morning 2018-07-31 09:44:57+00:00          False  "
      ]
     },
     "execution_count": 173,
     "metadata": {},
     "output_type": "execute_result"
    }
   ],
   "source": [
    "def assign_attribution_window(row):\n",
    "    interaction_time = row['time']\n",
    "    channel = row['channel']\n",
    "    attribution_window = attribution_windows[channel]\n",
    "    attribution_start_time = interaction_time + attribution_window\n",
    "    return attribution_start_time\n",
    "\n",
    "df['attribution_validity'] = df.apply(assign_attribution_window, axis=1)\n",
    "\n",
    "conversion_times = df.loc[df['conversion'] == 1, ['cookie', 'time']].groupby('cookie').min()\n",
    "merged_df = pd.merge(df, conversion_times, on='cookie', suffixes=('', '_conv'))\n",
    "filtered_rows = merged_df[merged_df['attribution_validity'] >= merged_df['time_conv']]\n",
    "\n",
    "df['within_window'] = df.cookie.isin(filtered_rows.cookie)\n",
    "df.head()\n",
    "\n",
    "# this is to use attribution windows that we calculated earlier, for single & multi touch"
   ]
  },
  {
   "cell_type": "code",
   "execution_count": 174,
   "id": "2c21e72b",
   "metadata": {},
   "outputs": [
    {
     "name": "stdout",
     "output_type": "stream",
     "text": [
      "          Channel  Conversions  Attribution\n",
      "0        Facebook         5301     0.300527\n",
      "1     Paid Search         4547     0.257781\n",
      "2    Online Video         3408     0.193208\n",
      "3       Instagram         2244     0.127218\n",
      "4  Online Display         2139     0.121265\n"
     ]
    }
   ],
   "source": [
    "# step 2. Last Click Model \n",
    "# For non-data-driven attribution model, I'm going to use Last click model, which is most commonly used in many tracking tools\n",
    "\n",
    "conversion_df = df[df['interaction'] == 'conversion']\n",
    "last_click_df = conversion_df.groupby('cookie').last()\n",
    "last_click_result = last_click_df['channel'].value_counts().reset_index()\n",
    "last_click_result.columns = ['Channel', 'Conversions']\n",
    "total_conversions = last_click_result['Conversions'].sum()\n",
    "\n",
    "last_click_result['Attribution'] = last_click_result['Conversions'] / total_conversions\n",
    "\n",
    "print(last_click_result)"
   ]
  },
  {
   "cell_type": "code",
   "execution_count": 175,
   "id": "1d2a30bb",
   "metadata": {},
   "outputs": [
    {
     "name": "stdout",
     "output_type": "stream",
     "text": [
      "                 Generalized Linear Model Regression Results                  \n",
      "==============================================================================\n",
      "Dep. Variable:                 output   No. Observations:               466073\n",
      "Model:                            GLM   Df Residuals:                   466071\n",
      "Model Family:                Binomial   Df Model:                            1\n",
      "Link Function:                  logit   Scale:                          1.0000\n",
      "Method:                          IRLS   Log-Likelihood:                -63368.\n",
      "Date:                Wed, 21 Jun 2023   Deviance:                   1.2674e+05\n",
      "Time:                        22:31:18   Pearson chi2:                 4.66e+05\n",
      "No. Iterations:                     7                                         \n",
      "Covariance Type:            nonrobust                                         \n",
      "==============================================================================\n",
      "                 coef    std err          z      P>|z|      [0.025      0.975]\n",
      "------------------------------------------------------------------------------\n",
      "Intercept     -3.4701      0.014   -254.871      0.000      -3.497      -3.443\n",
      "feature        0.0030      0.005      0.564      0.573      -0.007       0.013\n",
      "==============================================================================\n"
     ]
    }
   ],
   "source": [
    "# step 3. Data Driven Attribution Model \n",
    "\n",
    "# logistic regression\n",
    "import statsmodels.api as sm\n",
    "from sklearn.model_selection import train_test_split\n",
    "from sklearn.preprocessing import LabelEncoder\n",
    "\n",
    "train_df, test_df = train_test_split(df, test_size=0.2, random_state=42)\n",
    "\n",
    "train_df = train_df.dropna()\n",
    "encoder = LabelEncoder()\n",
    "train_df['channel_encoded'] = encoder.fit_transform(train_df['channel'])\n",
    "\n",
    "feature = train_df['channel_encoded']\n",
    "output = train_df['conversion']\n",
    "model = sm.formula.glm(\"output ~ feature\", train_df, family=sm.families.Binomial()).fit()\n",
    "print(model.summary())\n",
    "\n",
    "# since p<0.05 the result is not statistically significant \n",
    "# probably because it doesn't take into consideration that users can convert after visiting from the same channel multiple times \n",
    "# I have to try Markov chain analysis"
   ]
  },
  {
   "cell_type": "code",
   "execution_count": 176,
   "id": "dc09777a",
   "metadata": {},
   "outputs": [
    {
     "data": {
      "image/png": "[encoded data removed]",
      "text/plain": [
       "<Figure size 720x576 with 2 Axes>"
      ]
     },
     "metadata": {
      "needs_background": "light"
     },
     "output_type": "display_data"
    }
   ],
   "source": [
    "# step 4. Markov Chain analysis\n",
    "\n",
    "# Get a transition matrix\n",
    "\n",
    "df = df.sort_values(['cookie', 'time'])\n",
    "\n",
    "df['next_channel'] = df.groupby('cookie')['channel'].shift(-1)\n",
    "channels = df['channel'].unique()\n",
    "transition_matrix = pd.DataFrame(index=channels, columns=channels, dtype=float)\n",
    "\n",
    "for channel in channels:\n",
    "    channel_counts = df[df['channel'] == channel]['next_channel'].value_counts()\n",
    "    transition_matrix.loc[channel] = channel_counts\n",
    "    \n",
    "transition_matrix = transition_matrix.fillna(0)\n",
    "transition_matrix = transition_matrix.div(transition_matrix.sum(axis=1), axis=0)\n",
    "\n",
    "plt.figure(figsize=(10, 8))\n",
    "sns.heatmap(transition_matrix, cmap=\"YlGnBu\", annot=True, fmt=\".2f\", square=True)\n",
    "plt.title(\"Transition Matrix Heatmap\")\n",
    "plt.xlabel(\"Next Channel\")\n",
    "plt.ylabel(\"Current Channel\")\n",
    "plt.xticks(rotation=45)\n",
    "plt.yticks(rotation=0)\n",
    "plt.show()"
   ]
  },
  {
   "cell_type": "code",
   "execution_count": 177,
   "id": "1eefe530",
   "metadata": {},
   "outputs": [
    {
     "data": {
      "text/html": [
       "<div>\n",
       "<style scoped>\n",
       "    .dataframe tbody tr th:only-of-type {\n",
       "        vertical-align: middle;\n",
       "    }\n",
       "\n",
       "    .dataframe tbody tr th {\n",
       "        vertical-align: top;\n",
       "    }\n",
       "\n",
       "    .dataframe thead th {\n",
       "        text-align: right;\n",
       "    }\n",
       "</style>\n",
       "<table border=\"1\" class=\"dataframe\">\n",
       "  <thead>\n",
       "    <tr style=\"text-align: right;\">\n",
       "      <th></th>\n",
       "      <th>Channel</th>\n",
       "      <th>Attribution</th>\n",
       "    </tr>\n",
       "  </thead>\n",
       "  <tbody>\n",
       "    <tr>\n",
       "      <th>0</th>\n",
       "      <td>Facebook</td>\n",
       "      <td>0.331722</td>\n",
       "    </tr>\n",
       "    <tr>\n",
       "      <th>1</th>\n",
       "      <td>Online Video</td>\n",
       "      <td>0.235589</td>\n",
       "    </tr>\n",
       "    <tr>\n",
       "      <th>2</th>\n",
       "      <td>Paid Search</td>\n",
       "      <td>0.187958</td>\n",
       "    </tr>\n",
       "    <tr>\n",
       "      <th>3</th>\n",
       "      <td>Instagram</td>\n",
       "      <td>0.142433</td>\n",
       "    </tr>\n",
       "    <tr>\n",
       "      <th>4</th>\n",
       "      <td>Online Display</td>\n",
       "      <td>0.102298</td>\n",
       "    </tr>\n",
       "  </tbody>\n",
       "</table>\n",
       "</div>"
      ],
      "text/plain": [
       "          Channel  Attribution\n",
       "0        Facebook     0.331722\n",
       "1    Online Video     0.235589\n",
       "2     Paid Search     0.187958\n",
       "3       Instagram     0.142433\n",
       "4  Online Display     0.102298"
      ]
     },
     "execution_count": 177,
     "metadata": {},
     "output_type": "execute_result"
    }
   ],
   "source": [
    "transition_matrix = transition_matrix.values\n",
    "num_channels = transition_matrix.shape[0]\n",
    "\n",
    "initial_probabilities = np.ones(num_channels) / num_channels\n",
    "stationary_distribution = initial_probabilities\n",
    "\n",
    "for _ in range(100):\n",
    "    stationary_distribution = np.dot(stationary_distribution, transition_matrix)\n",
    "stationary_distribution /= np.sum(stationary_distribution)\n",
    "\n",
    "attribution_results = {}\n",
    "for i, channel in enumerate(channels):\n",
    "    attribution_results[channel] = stationary_distribution[i]\n",
    "\n",
    "sorted_attribution_results = sorted(attribution_results.items(), key=lambda x: x[1], reverse=True)\n",
    "sorted_attribution_results\n",
    "attribution_table = pd.DataFrame(sorted_attribution_results, columns=['Channel', 'Attribution'])\n",
    "attribution_table"
   ]
  },
  {
   "cell_type": "code",
   "execution_count": 178,
   "id": "facc0d33",
   "metadata": {},
   "outputs": [
    {
     "data": {
      "image/png": "[encoded data removed]",
      "text/plain": [
       "<Figure size 432x288 with 1 Axes>"
      ]
     },
     "metadata": {
      "needs_background": "light"
     },
     "output_type": "display_data"
    }
   ],
   "source": [
    "# step 4. Compare\n",
    "\n",
    "attribution_table['Methodology'] = 'Markov Chain'\n",
    "last_click_result['Methodology'] = 'Last Click'\n",
    "\n",
    "merged_results = pd.concat([attribution_table, last_click_result], ignore_index=True)\n",
    "sns.barplot(x='Channel', y='Attribution', data=merged_results, hue='Methodology')\n",
    "plt.xlabel('Channels')\n",
    "plt.ylabel('Attribution (%)')\n",
    "plt.title('Marketing Attribution Comparison')\n",
    "plt.xticks(rotation=45)\n",
    "plt.legend(title='Methodology')\n",
    "plt.show()"
   ]
  },
  {
   "cell_type": "code",
   "execution_count": 183,
   "id": "ce2700cd",
   "metadata": {},
   "outputs": [
    {
     "data": {
      "text/html": [
       "<div>\n",
       "<style scoped>\n",
       "    .dataframe tbody tr th:only-of-type {\n",
       "        vertical-align: middle;\n",
       "    }\n",
       "\n",
       "    .dataframe tbody tr th {\n",
       "        vertical-align: top;\n",
       "    }\n",
       "\n",
       "    .dataframe thead th {\n",
       "        text-align: right;\n",
       "    }\n",
       "</style>\n",
       "<table border=\"1\" class=\"dataframe\">\n",
       "  <thead>\n",
       "    <tr style=\"text-align: right;\">\n",
       "      <th></th>\n",
       "      <th>Channel</th>\n",
       "      <th>Conversions</th>\n",
       "      <th>Attribution</th>\n",
       "      <th>Methodology</th>\n",
       "      <th>Conversion Value_x</th>\n",
       "      <th>Revenue Attribution</th>\n",
       "      <th>Conversion Value_y</th>\n",
       "      <th>Conversion Value</th>\n",
       "    </tr>\n",
       "  </thead>\n",
       "  <tbody>\n",
       "    <tr>\n",
       "      <th>0</th>\n",
       "      <td>Facebook</td>\n",
       "      <td>5301</td>\n",
       "      <td>0.300527</td>\n",
       "      <td>Last Click</td>\n",
       "      <td>21418.0</td>\n",
       "      <td>6436.692443</td>\n",
       "      <td>21418.0</td>\n",
       "      <td>21418.0</td>\n",
       "    </tr>\n",
       "    <tr>\n",
       "      <th>1</th>\n",
       "      <td>Online Video</td>\n",
       "      <td>3408</td>\n",
       "      <td>0.193208</td>\n",
       "      <td>Last Click</td>\n",
       "      <td>28331.5</td>\n",
       "      <td>5473.879018</td>\n",
       "      <td>28331.5</td>\n",
       "      <td>28331.5</td>\n",
       "    </tr>\n",
       "    <tr>\n",
       "      <th>2</th>\n",
       "      <td>Instagram</td>\n",
       "      <td>2244</td>\n",
       "      <td>0.127218</td>\n",
       "      <td>Last Click</td>\n",
       "      <td>33143.5</td>\n",
       "      <td>4216.452974</td>\n",
       "      <td>33143.5</td>\n",
       "      <td>33143.5</td>\n",
       "    </tr>\n",
       "    <tr>\n",
       "      <th>3</th>\n",
       "      <td>Paid Search</td>\n",
       "      <td>4547</td>\n",
       "      <td>0.257781</td>\n",
       "      <td>Last Click</td>\n",
       "      <td>13298.5</td>\n",
       "      <td>3428.101338</td>\n",
       "      <td>13298.5</td>\n",
       "      <td>13298.5</td>\n",
       "    </tr>\n",
       "    <tr>\n",
       "      <th>4</th>\n",
       "      <td>Online Display</td>\n",
       "      <td>2139</td>\n",
       "      <td>0.121265</td>\n",
       "      <td>Last Click</td>\n",
       "      <td>14039.5</td>\n",
       "      <td>1702.505272</td>\n",
       "      <td>14039.5</td>\n",
       "      <td>14039.5</td>\n",
       "    </tr>\n",
       "  </tbody>\n",
       "</table>\n",
       "</div>"
      ],
      "text/plain": [
       "          Channel  Conversions  Attribution Methodology  Conversion Value_x  \\\n",
       "0        Facebook         5301     0.300527  Last Click             21418.0   \n",
       "1    Online Video         3408     0.193208  Last Click             28331.5   \n",
       "2       Instagram         2244     0.127218  Last Click             33143.5   \n",
       "3     Paid Search         4547     0.257781  Last Click             13298.5   \n",
       "4  Online Display         2139     0.121265  Last Click             14039.5   \n",
       "\n",
       "   Revenue Attribution  Conversion Value_y  Conversion Value  \n",
       "0          6436.692443             21418.0           21418.0  \n",
       "1          5473.879018             28331.5           28331.5  \n",
       "2          4216.452974             33143.5           33143.5  \n",
       "3          3428.101338             13298.5           13298.5  \n",
       "4          1702.505272             14039.5           14039.5  "
      ]
     },
     "execution_count": 183,
     "metadata": {},
     "output_type": "execute_result"
    }
   ],
   "source": [
    "# Revenue comparison\n",
    "# Last click\n",
    "\n",
    "last_click_result = last_click_result.merge(pd.DataFrame({'Channel': channels, 'Conversion Value': conversion_values}), on='Channel')\n",
    "last_click_result['Revenue Attribution'] = last_click_result['Attribution'] * last_click_result['Conversion Value']\n",
    "last_click_result = last_click_result.sort_values(by='Revenue Attribution', ascending=False)\n",
    "last_click_result"
   ]
  },
  {
   "cell_type": "code",
   "execution_count": 181,
   "id": "8122287b",
   "metadata": {},
   "outputs": [
    {
     "data": {
      "text/html": [
       "<div>\n",
       "<style scoped>\n",
       "    .dataframe tbody tr th:only-of-type {\n",
       "        vertical-align: middle;\n",
       "    }\n",
       "\n",
       "    .dataframe tbody tr th {\n",
       "        vertical-align: top;\n",
       "    }\n",
       "\n",
       "    .dataframe thead th {\n",
       "        text-align: right;\n",
       "    }\n",
       "</style>\n",
       "<table border=\"1\" class=\"dataframe\">\n",
       "  <thead>\n",
       "    <tr style=\"text-align: right;\">\n",
       "      <th></th>\n",
       "      <th>Channel</th>\n",
       "      <th>Revenue Attribution</th>\n",
       "    </tr>\n",
       "  </thead>\n",
       "  <tbody>\n",
       "    <tr>\n",
       "      <th>3</th>\n",
       "      <td>Facebook</td>\n",
       "      <td>7104.814049</td>\n",
       "    </tr>\n",
       "    <tr>\n",
       "      <th>4</th>\n",
       "      <td>Online Video</td>\n",
       "      <td>6674.595734</td>\n",
       "    </tr>\n",
       "    <tr>\n",
       "      <th>0</th>\n",
       "      <td>Instagram</td>\n",
       "      <td>4720.727921</td>\n",
       "    </tr>\n",
       "    <tr>\n",
       "      <th>2</th>\n",
       "      <td>Paid Search</td>\n",
       "      <td>2499.559750</td>\n",
       "    </tr>\n",
       "    <tr>\n",
       "      <th>1</th>\n",
       "      <td>Online Display</td>\n",
       "      <td>1436.214673</td>\n",
       "    </tr>\n",
       "  </tbody>\n",
       "</table>\n",
       "</div>"
      ],
      "text/plain": [
       "          Channel  Revenue Attribution\n",
       "3        Facebook          7104.814049\n",
       "4    Online Video          6674.595734\n",
       "0       Instagram          4720.727921\n",
       "2     Paid Search          2499.559750\n",
       "1  Online Display          1436.214673"
      ]
     },
     "execution_count": 181,
     "metadata": {},
     "output_type": "execute_result"
    }
   ],
   "source": [
    "# Markov Chain Analysis\n",
    "df['next_channel'] = df.groupby('cookie')['channel'].shift(-1)\n",
    "channels = df['channel'].unique()\n",
    "transition_matrix = pd.DataFrame(index=channels, columns=channels, dtype=float)\n",
    "\n",
    "for channel in channels:\n",
    "    channel_counts = df[df['channel'] == channel]['next_channel'].value_counts()\n",
    "    transition_matrix.loc[channel] = channel_counts\n",
    "    \n",
    "transition_matrix = transition_matrix.fillna(0)\n",
    "transition_matrix = transition_matrix.div(transition_matrix.sum(axis=1), axis=0)\n",
    "\n",
    "conversion_values = df.groupby('channel')['conversion_value'].sum()\n",
    "transition_matrix = transition_matrix.values\n",
    "conversion_values = conversion_values.values\n",
    "num_channels = transition_matrix.shape[0]\n",
    "initial_probabilities = np.ones(num_channels) / num_channels\n",
    "\n",
    "stationary_distribution = initial_probabilities\n",
    "for _ in range(100):  \n",
    "    stationary_distribution = np.dot(stationary_distribution, transition_matrix)\n",
    "stationary_distribution /= np.sum(stationary_distribution)\n",
    "\n",
    "revenue_attributions = stationary_distribution * conversion_values\n",
    "attribution_table = pd.DataFrame({'Channel': channels, 'Revenue Attribution': revenue_attributions})\n",
    "\n",
    "attribution_table = attribution_table.sort_values(by='Revenue Attribution', ascending=False)\n",
    "attribution_table"
   ]
  },
  {
   "cell_type": "code",
   "execution_count": 185,
   "id": "b081c282",
   "metadata": {},
   "outputs": [
    {
     "data": {
      "image/png": "[encoded data removed]",
      "text/plain": [
       "<Figure size 432x288 with 1 Axes>"
      ]
     },
     "metadata": {
      "needs_background": "light"
     },
     "output_type": "display_data"
    }
   ],
   "source": [
    "attribution_table['Methodology'] = 'Markov Chain'\n",
    "last_click_result['Methodology'] = 'Last Click'\n",
    "\n",
    "merged_results = pd.concat([attribution_table, last_click_result], ignore_index=True)\n",
    "\n",
    "sns.barplot(x='Channel', y='Revenue Attribution', data=merged_results, hue='Methodology')\n",
    "plt.xlabel('Channels')\n",
    "plt.ylabel('Revenue Attribution')\n",
    "plt.title('Revenue Attribution Comparison')\n",
    "plt.xticks(rotation=45)\n",
    "plt.legend(title='Methodology')\n",
    "plt.show()"
   ]
  },
  {
   "cell_type": "code",
   "execution_count": null,
   "id": "32b2ad49",
   "metadata": {},
   "outputs": [],
   "source": []
  },
  {
   "cell_type": "code",
   "execution_count": null,
   "id": "045d4c77",
   "metadata": {},
   "outputs": [],
   "source": []
  },
  {
   "cell_type": "code",
   "execution_count": null,
   "id": "9a6a6639",
   "metadata": {},
   "outputs": [],
   "source": []
  },
  {
   "cell_type": "code",
   "execution_count": null,
   "id": "1420c050",
   "metadata": {},
   "outputs": [],
   "source": [
    "# What did I learn from this project, and how did I learn? \n",
    "# what mistakes did I make? what was the difficult part?\n",
    "# what could have been done better?\n",
    "# learned from marketing blogs (e.g.hubspot), kaggle notebook to see expected output\n",
    "# in terms of tricky coding, asked for a help to colleagues\n",
    "# thought process"
   ]
  }
 ],
 "metadata": {
  "kernelspec": {
   "display_name": "Python 3",
   "language": "python",
   "name": "python3"
  },
  "language_info": {
   "codemirror_mode": {
    "name": "ipython",
    "version": 3
   },
   "file_extension": ".py",
   "mimetype": "text/x-python",
   "name": "python",
   "nbconvert_exporter": "python",
   "pygments_lexer": "ipython3",
   "version": "3.8.8"
  }
 },
 "nbformat": 4,
 "nbformat_minor": 5
}
